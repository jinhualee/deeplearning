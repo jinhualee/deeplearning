{
 "cells": [
  {
   "cell_type": "markdown",
   "metadata": {
    "origin_pos": 0
   },
   "source": [
    "# 7.7 稠密连接网络（DenseNet）\n",
    "- **目录**\n",
    "  - 7.7.1 从ResNet到DenseNet\n",
    "  - 7.7.2 稠密块体\n",
    "  - 7.7.3 过渡层\n",
    "  - 7.7.4 DenseNet模型\n",
    "  - 7.7.5 训练模型"
   ]
  },
  {
   "cell_type": "markdown",
   "metadata": {
    "origin_pos": 0
   },
   "source": [
    "- ResNet极大地改变了如何参数化深层网络中函数的观点。\n",
    "- **稠密连接网络（DenseNet）** 在某种程度上是ResNet的逻辑扩展。"
   ]
  },
  {
   "cell_type": "markdown",
   "metadata": {
    "origin_pos": 0
   },
   "source": [
    "## 7.7.1 从ResNet到DenseNet\n",
    "\n",
    "回想一下任意函数的**泰勒展开式（Taylor expansion）**，它把这个函数分解成越来越高阶的项。在$x$接近0时，\n",
    "\n",
    "$$f(x) = f(0) + f'(0) x + \\frac{f''(0)}{2!}  x^2 + \\frac{f'''(0)}{3!}  x^3 + \\ldots \\tag{7.7.1}$$\n",
    "\n",
    "同样，ResNet将函数展开为\n",
    "\n",
    "$$f(\\mathbf{x}) = \\mathbf{x} + g(\\mathbf{x})\\tag{7.7.2}$$\n",
    "\n",
    "也就是说，ResNet将$f$分解为两部分：**一个简单的线性项和一个复杂的非线性项**。\n",
    "\n",
    "那么再向前拓展一步，如果我们想将$f$拓展成超过两部分的信息呢？\n",
    "一种方案便是DenseNet。\n",
    "\n",
    "<center>\n",
    "    <img src=\"../img/densenet-block.svg\" alt=\"ResNet（左）与 DenseNet（右）在跨层连接上的主要区别：使用相加和使用连结\">\n",
    "</center>\n",
    "<center>图7.7.1 ResNet（左）与 DenseNet（右）在<b>跨层连接</b>上的主要区别：使用<b>相加</b>和使用<b>连结</b></center><br>\n",
    "\n",
    "如 图7.7.1所示，ResNet和DenseNet的关键区别在于，DenseNet输出是**连接**（**用图中的$[,]$表示**）而不是如ResNet的简单相加。即将卷积层的输出与X在维度上连接起来形成新的张量，而不是做算术运算。\n",
    "因此，在应用越来越复杂的函数序列后，我们执行从$\\mathbf{x}$到其展开式的映射：\n",
    "\n",
    "$$\\mathbf{x} \\to \\left[\n",
    "\\mathbf{x},\n",
    "f_1(\\mathbf{x}),\n",
    "f_2([\\mathbf{x}, f_1(\\mathbf{x})]), f_3([\\mathbf{x}, f_1(\\mathbf{x}), f_2([\\mathbf{x}, f_1(\\mathbf{x})])]), \\ldots\\right]\\tag{7.7.3}$$"
   ]
  },
  {
   "cell_type": "markdown",
   "metadata": {},
   "source": [
    "-------------\n",
    "- **说明：泰勒展开式的论述与稠密网络有何联系？**\n",
    "  - 泰勒展开式是一种将函数表示为无穷级数的方式，其中每一项表示函数在某一点的高阶导数乘以相应的幂次项。它可以看作是对函数的逐步逼近，从线性项开始，逐步加入更高阶的非线性项来提高近似的精度。\n",
    "  - 在深度学习中，ResNet的残差块可以看作是对函数的一种**线性近似和修正**，即通过$f(\\mathbf{x}) = \\mathbf{x} + g(\\mathbf{x})$的形式，将原始输入$\\mathbf{x}$和一个非线性变换$g(\\mathbf{x})$相加。这类似于泰勒展开中的线性部分加上一个修正项。\n",
    "  - DenseNet则进一步扩展了这种思想。在DenseNet中，每一层的输出不仅是前一层的输出的非线性变换，还包括了所有之前层的输出的“连接”。这类似于将函数**展开为具有更多项的形式**，就像泰勒展开式中**更高阶项的累积**。具体来说，在DenseNet中，输出是通过连接（concatenation）之前所有层的输出来实现的：\n",
    "  $$\\mathbf{x} \\to \\left[\n",
    "\\mathbf{x},\n",
    "f_1(\\mathbf{x}),\n",
    "f_2([\\mathbf{x}, f_1(\\mathbf{x})]), f_3([\\mathbf{x}, f_1(\\mathbf{x}), f_2([\\mathbf{x}, f_1(\\mathbf{x})])]), \\ldots\\right].\n",
    "  $$\n",
    "\n",
    "  - 这种连接方式使得每一层可以直接访问之前所有层的特征表示，从而能够更好地**复用和组合不同层的特征**。这种设计理念与泰勒展开式中的逐步累积更高阶项进行函数逼近的思路**相呼应**。在泰勒展开式中，增加更高阶的项可以提供**更精确的逼近**；在DenseNet中，通过连接所有之前层的输出，网络可以学习到**更丰富、更复杂的特征表示**。\n",
    "  - 因此，泰勒展开式与DenseNet的联系在于：两者都**通过逐步增加信息（或者特征）来构建更复杂、精确的表示**。泰勒展开通过增加高阶导数项来逼近函数，而DenseNet通过连接不同层的输出来构建更复杂的特征空间。\n",
    "------"
   ]
  },
  {
   "cell_type": "markdown",
   "metadata": {
    "origin_pos": 0
   },
   "source": [
    "最后，将这些展开式结合到多层感知机中，再次减少特征的数量。\n",
    "实现起来非常简单：我们不需要添加术语，而是将它们连接起来。\n",
    "**DenseNet这个名字由变量之间的“稠密连接”而得来，最后一层与之前的所有层紧密相连**。\n",
    "稠密连接如图7.7.2所示。\n",
    "<center>\n",
    "    <img src=\"../img/densenet.svg\" alt=\"稠密连接\">\n",
    "</center>\n",
    "<center>图7.7.2 稠密连接</center><br>\n",
    "稠密网络主要由2部分构成：<b>稠密块（dense block）</b> 和 <b>过渡层（transition layer）</b>。\n",
    "\n",
    "前者定义如何连接输入和输出，而后者则控制通道数量，使其不会太复杂。"
   ]
  },
  {
   "cell_type": "markdown",
   "metadata": {
    "origin_pos": 0
   },
   "source": [
    "- **要点：**\n",
    "  - **从ResNet到DenseNet**：ResNet通过恒等映射和跳跃连接实现信息的传递，将函数$f$分解为两部分：一个简单的线性项和一个复杂的非线性项。然而，如果我们希望将$f$拓展成超过两部分的信息，DenseNet提供了一种可能的方案。\n",
    "  - **DenseNet的运行机制**：DenseNet的关键区别在于，它的输出是**连接**（在图中由$[,]$表示），而不是像ResNet那样的简单相加。这意味着，DenseNet执行了从$\\mathbf{x}$到其泰勒展开式的映射，将卷积层的输出与X在维度上连接起来形成新的张量，而不是进行算术运算。\n",
    "  - **DenseNet的命名**：DenseNet这个名字来源于变量之间的“稠密连接”，最后一层与之前的所有层紧密相连。\n",
    "  - **DenseNet的组成**：DenseNet主要由两部分构成——**稠密块（dense block）**和**过渡层（transition layer）**。稠密块定义了如何连接输入和输出，而过渡层则**控制通道数量**，以防止模型过于复杂。"
   ]
  },
  {
   "cell_type": "markdown",
   "metadata": {
    "origin_pos": 0
   },
   "source": [
    "## 7.7.2 稠密块体\n",
    "- DenseNet使用了ResNet改良版的“批量规范化、激活和卷积”架构（参见 7.6节中的练习）。\n",
    "- 首先实现一下这个架构。"
   ]
  },
  {
   "cell_type": "code",
   "execution_count": 2,
   "metadata": {
    "origin_pos": 2,
    "tab": [
     "pytorch"
    ]
   },
   "outputs": [],
   "source": [
    "%matplotlib inline\n",
    "import torch\n",
    "from torch import nn\n",
    "from d2l import torch as d2l\n",
    "\n",
    "def conv_block(input_channels, num_channels):\n",
    "    return nn.Sequential(\n",
    "        nn.BatchNorm2d(input_channels), nn.ReLU(),\n",
    "        nn.Conv2d(input_channels, num_channels, kernel_size=3, padding=1))"
   ]
  },
  {
   "cell_type": "markdown",
   "metadata": {
    "origin_pos": 4
   },
   "source": [
    "- 一个**稠密块**由多个卷积块组成，每个卷积块使用相同数量的输出通道。\n",
    "- 然而，在前向传播中，将每个卷积块的输入和输出**在通道维上连结**。\n"
   ]
  },
  {
   "cell_type": "code",
   "execution_count": 3,
   "metadata": {
    "origin_pos": 6,
    "tab": [
     "pytorch"
    ]
   },
   "outputs": [],
   "source": [
    "class DenseBlock(nn.Module):\n",
    "    def __init__(self, num_convs, input_channels, num_channels):\n",
    "        super(DenseBlock, self).__init__()\n",
    "        layer = []\n",
    "        for i in range(num_convs):\n",
    "            layer.append(conv_block(\n",
    "                num_channels * i + input_channels, num_channels))\n",
    "        self.net = nn.Sequential(*layer)\n",
    "\n",
    "    def forward(self, X):\n",
    "        for blk in self.net:\n",
    "            Y = blk(X)\n",
    "            # 连接通道维度上每个块的输入和输出\n",
    "            X = torch.cat((X, Y), dim=1)\n",
    "        return X"
   ]
  },
  {
   "cell_type": "markdown",
   "metadata": {
    "origin_pos": 8
   },
   "source": [
    "- 在下面的例子中，定义一个有2个输出通道数为10的(**`DenseBlock`**)。\n",
    "- 使用通道数为3的输入时，会得到通道数为$3+2\\times 10=23$的输出。\n",
    "- 卷积块的通道数控制了输出通道数相对于输入通道数的增长，因此也被称为**增长率（growth rate）**。\n"
   ]
  },
  {
   "cell_type": "code",
   "execution_count": 4,
   "metadata": {
    "origin_pos": 10,
    "tab": [
     "pytorch"
    ]
   },
   "outputs": [
    {
     "data": {
      "text/plain": [
       "torch.Size([4, 23, 8, 8])"
      ]
     },
     "execution_count": 4,
     "metadata": {},
     "output_type": "execute_result"
    }
   ],
   "source": [
    "blk = DenseBlock(2, 3, 10)\n",
    "X = torch.randn(4, 3, 8, 8)\n",
    "Y = blk(X)\n",
    "Y.shape"
   ]
  },
  {
   "cell_type": "markdown",
   "metadata": {},
   "source": [
    "- **示例：在通道维连接张量**"
   ]
  },
  {
   "cell_type": "code",
   "execution_count": 5,
   "metadata": {},
   "outputs": [
    {
     "data": {
      "text/plain": [
       "(torch.Size([5, 3, 8, 8]),\n",
       " torch.Size([5, 3, 8, 8]),\n",
       " torch.Size([5, 6, 8, 8]),\n",
       " torch.Size([5, 9, 8, 8]))"
      ]
     },
     "execution_count": 5,
     "metadata": {},
     "output_type": "execute_result"
    }
   ],
   "source": [
    "## 在通道维即第2维连接张量,DenseNet的特定操作\n",
    "a = torch.randn(960).reshape((5,3,8,8))\n",
    "b = torch.randn(960).reshape((5,3,8,8))\n",
    "a.shape,b.shape,torch.cat((a,b),dim=1).shape,torch.cat((a,b,a),dim=1).shape"
   ]
  },
  {
   "cell_type": "markdown",
   "metadata": {
    "origin_pos": 12
   },
   "source": [
    "## 7.7.3 过渡层\n",
    "\n",
    "- 由于每个稠密块都会带来通道数的增加，使用过多则会**过于复杂化**模型。\n",
    "- 过渡层可以用来控制模型复杂度。\n",
    "  - 它通过$1\\times 1$卷积层来减小通道数，并使用步幅为2的平均池化层**减半高和宽**，从而进一步降低模型复杂度。\n"
   ]
  },
  {
   "cell_type": "code",
   "execution_count": 6,
   "metadata": {
    "origin_pos": 14,
    "tab": [
     "pytorch"
    ]
   },
   "outputs": [],
   "source": [
    "def transition_block(input_channels, num_channels):\n",
    "    return nn.Sequential(\n",
    "        nn.BatchNorm2d(input_channels), nn.ReLU(),\n",
    "        nn.Conv2d(input_channels, num_channels, kernel_size=1),\n",
    "        nn.AvgPool2d(kernel_size=2, stride=2))"
   ]
  },
  {
   "cell_type": "markdown",
   "metadata": {
    "origin_pos": 16
   },
   "source": [
    "- 对上一个例子中稠密块的输出使用通道数为10的过渡层。\n",
    "- 此时输出的通道数减为10，高和宽均减半。\n"
   ]
  },
  {
   "cell_type": "code",
   "execution_count": 7,
   "metadata": {
    "origin_pos": 18,
    "tab": [
     "pytorch"
    ]
   },
   "outputs": [
    {
     "data": {
      "text/plain": [
       "torch.Size([4, 10, 4, 4])"
      ]
     },
     "execution_count": 7,
     "metadata": {},
     "output_type": "execute_result"
    }
   ],
   "source": [
    "blk = transition_block(23, 10)\n",
    "blk(Y).shape"
   ]
  },
  {
   "cell_type": "markdown",
   "metadata": {
    "origin_pos": 20
   },
   "source": [
    "## 7.7.4 DenseNet模型\n",
    "\n",
    "- 构造DenseNet模型。\n",
    "- DenseNet首先使用同ResNet一样的单卷积层和最大池化层。\n"
   ]
  },
  {
   "cell_type": "code",
   "execution_count": 8,
   "metadata": {
    "origin_pos": 22,
    "tab": [
     "pytorch"
    ]
   },
   "outputs": [],
   "source": [
    "b1 = nn.Sequential(\n",
    "    nn.Conv2d(1, 64, kernel_size=7, stride=2, padding=3),\n",
    "    nn.BatchNorm2d(64), nn.ReLU(),\n",
    "    nn.MaxPool2d(kernel_size=3, stride=2, padding=1))"
   ]
  },
  {
   "cell_type": "markdown",
   "metadata": {
    "origin_pos": 24
   },
   "source": [
    "- 接下来，类似于ResNet使用的4个残差块，DenseNet使用的是4个稠密块。\n",
    "- 与ResNet类似，我们可以设置每个稠密块使用多少个卷积层。\n",
    "  - 这里设成4，从而与7.6节的ResNet-18保持一致。\n",
    "  - 稠密块里的卷积层通道数（即增长率）设为32，所以每个稠密块将增加128个通道。\n",
    "- 在每个模块之间，ResNet通过步幅为2的残差块减小高和宽，DenseNet则使用过渡层来减半高和宽，并减半通道数。\n"
   ]
  },
  {
   "cell_type": "code",
   "execution_count": 9,
   "metadata": {
    "origin_pos": 26,
    "tab": [
     "pytorch"
    ]
   },
   "outputs": [],
   "source": [
    "# num_channels为当前的通道数\n",
    "num_channels, growth_rate = 64, 32 \n",
    "num_convs_in_dense_blocks = [4, 4, 4, 4]\n",
    "blks = []\n",
    "for i, num_convs in enumerate(num_convs_in_dense_blocks):\n",
    "    blks.append(DenseBlock(num_convs, num_channels, growth_rate))\n",
    "    # 上一个稠密块的输出通道数\n",
    "    num_channels += num_convs * growth_rate\n",
    "    # 在稠密块之间添加一个转换层，使通道数量减半\n",
    "    if i != len(num_convs_in_dense_blocks) - 1:\n",
    "        blks.append(transition_block(num_channels, num_channels // 2))\n",
    "        num_channels = num_channels // 2"
   ]
  },
  {
   "cell_type": "markdown",
   "metadata": {
    "origin_pos": 28
   },
   "source": [
    "- 与ResNet类似，最后接上全局池化层和全连接层来输出结果。\n"
   ]
  },
  {
   "cell_type": "code",
   "execution_count": 10,
   "metadata": {
    "origin_pos": 30,
    "tab": [
     "pytorch"
    ]
   },
   "outputs": [],
   "source": [
    "net = nn.Sequential(\n",
    "    b1, *blks,\n",
    "    nn.BatchNorm2d(num_channels), nn.ReLU(),\n",
    "    nn.AdaptiveAvgPool2d((1, 1)),\n",
    "    nn.Flatten(),\n",
    "    nn.Linear(num_channels, 10))"
   ]
  },
  {
   "cell_type": "markdown",
   "metadata": {
    "origin_pos": 32
   },
   "source": [
    "## 7.7.5 训练模型\n",
    "- 由于这里使用了比较深的网络，本节里将输入高和宽从224降到96来简化计算。\n"
   ]
  },
  {
   "cell_type": "code",
   "execution_count": 16,
   "metadata": {
    "origin_pos": 33,
    "tab": [
     "pytorch"
    ]
   },
   "outputs": [],
   "source": [
    "import time\n",
    "import numpy as np\n",
    "lr, num_epochs, batch_size = 0.1, 10, 256\n",
    "train_iter, test_iter = d2l.load_data_fashion_mnist(batch_size, resize=96)\n",
    "start = time.time()\n",
    "d2l.train_ch6(net, train_iter, test_iter, num_epochs, lr, d2l.try_gpu())\n",
    "end = time.time()\n",
    "print(f'3090ti上模型训练耗时：{int(np.floor((end-start)/60))}分钟{(int(end-start)%60) }秒')"
   ]
  },
  {
   "cell_type": "markdown",
   "metadata": {},
   "source": [
    "<img src='..\\img\\7_7_1.png' height=350 width=350>"
   ]
  },
  {
   "cell_type": "markdown",
   "metadata": {
    "origin_pos": 34
   },
   "source": [
    "## 小结\n",
    "\n",
    "* 在跨层连接上，不同于ResNet中将输入与输出相加，稠密连接网络（DenseNet）在通道维上连结输入与输出。\n",
    "* DenseNet的主要构建模块是稠密块和过渡层。\n",
    "* 在构建DenseNet时，我们需要通过添加过渡层来控制网络的维数，从而再次减少通道的数量。"
   ]
  },
  {
   "cell_type": "markdown",
   "metadata": {},
   "source": [
    "- **说明：本节DenseNet的架构**\n",
    "- 假设输入数据形状为(batch_size, 1, 96, 96)，那么下面的输出形状将如下所示：\n",
    "  - Conv2d(1, 64, kernel_size=(7, 7), stride=(2, 2), padding=(3, 3)): 输出形状为(batch_size, 64, 48, 48)\n",
    "  - BatchNorm2d(64): 输出形状为(batch_size, 64, 48, 48)\n",
    "  - ReLU(): 输出形状为(batch_size, 64, 48, 48)\n",
    "  - MaxPool2d(kernel_size=3, stride=2, padding=1, dilation=1, ceil_mode=False): 输出形状为(batch_size, 64, 24, 24)\n",
    "- 然后进入第一个DenseBlock，每个DenseBlock内部的操作都会增加通道数。例如在第一个DenseBlock中，每个Sequential里的Conv2d层都会增加32个通道，所以：\n",
    "  - 第一个DenseBlock结束后：输出形状为(batch_size, 192, 24, 24)\n",
    "- 接着是转换层（包括BatchNorm、ReLU、Conv2d和AvgPool2d）：\n",
    "  - Conv2d(192, 96, kernel_size=(1, 1), stride=(1, 1)): 输出形状为(batch_size, 96, 24, 24)\n",
    "  - AvgPool2d(kernel_size=2, stride=2, padding=0): 输出形状为(batch_size, 96, 12, 12)\n",
    "- 同样地，经过第二个DenseBlock：\n",
    "  - 第二个DenseBlock结束后：输出形状为(batch_size, 224, 12, 12)\n",
    "- 再经过一个转换层：\n",
    "  - Conv2d(224, 112, kernel_size=(1, 1), stride=(1, 1)): 输出形状为(batch_size, 112, 12, 12)\n",
    "  - AvgPool2d(kernel_size=2, stride=2, padding=0): 输出形状为(batch_size, 112, 6, 6)\n",
    "- 同样地，经过第三个DenseBlock：\n",
    "  - 第三个DenseBlock结束后：输出形状为(batch_size, 240, 6, 6)\n",
    "- 再经过一个转换层：\n",
    "  - Conv2d(240, 120, kernel_size=(1, 1), stride=(1, 1)): 输出形状为(batch_size, 120, 6, 6)\n",
    "  - AvgPool2d(kernel_size=2, stride=2, padding=0): 输出形状为(batch_size, 120, 3, 3)\n",
    "- 最后，经过第四个DenseBlock：\n",
    "  - 第四个DenseBlock结束后：输出形状为(batch_size, 248, 3, 3)\n",
    "- 然后是BatchNorm2d(248)和ReLU()，它们不改变形状，保持为(batch_size, 248, 3, 3)。\n",
    "- AdaptiveAvgPool2d(output_size=(1, 1))将特征图大小降为1x1，因此输出形状为(batch_size, 248, 1, 1)。\n",
    "- Flatten(start_dim=1, end_dim=-1)将特征展平，输出形状为(batch_size, 248)。\n",
    "- 最后，Linear(in_features=248, out_features=10, bias=True)将248维的输入映射到10个输出类别，因此最终输出形状为(batch_size, 10)。\n"
   ]
  },
  {
   "cell_type": "markdown",
   "metadata": {},
   "source": [
    "- **（2）DenseNet的细节**"
   ]
  },
  {
   "cell_type": "code",
   "execution_count": 11,
   "metadata": {
    "tags": []
   },
   "outputs": [
    {
     "data": {
      "text/plain": [
       "Sequential(\n",
       "  (0): Sequential(\n",
       "    (0): Conv2d(1, 64, kernel_size=(7, 7), stride=(2, 2), padding=(3, 3))\n",
       "    (1): BatchNorm2d(64, eps=1e-05, momentum=0.1, affine=True, track_running_stats=True)\n",
       "    (2): ReLU()\n",
       "    (3): MaxPool2d(kernel_size=3, stride=2, padding=1, dilation=1, ceil_mode=False)\n",
       "  )\n",
       "  (1): DenseBlock(\n",
       "    (net): Sequential(\n",
       "      (0): Sequential(\n",
       "        (0): BatchNorm2d(64, eps=1e-05, momentum=0.1, affine=True, track_running_stats=True)\n",
       "        (1): ReLU()\n",
       "        (2): Conv2d(64, 32, kernel_size=(3, 3), stride=(1, 1), padding=(1, 1))\n",
       "      )\n",
       "      (1): Sequential(\n",
       "        (0): BatchNorm2d(96, eps=1e-05, momentum=0.1, affine=True, track_running_stats=True)\n",
       "        (1): ReLU()\n",
       "        (2): Conv2d(96, 32, kernel_size=(3, 3), stride=(1, 1), padding=(1, 1))\n",
       "      )\n",
       "      (2): Sequential(\n",
       "        (0): BatchNorm2d(128, eps=1e-05, momentum=0.1, affine=True, track_running_stats=True)\n",
       "        (1): ReLU()\n",
       "        (2): Conv2d(128, 32, kernel_size=(3, 3), stride=(1, 1), padding=(1, 1))\n",
       "      )\n",
       "      (3): Sequential(\n",
       "        (0): BatchNorm2d(160, eps=1e-05, momentum=0.1, affine=True, track_running_stats=True)\n",
       "        (1): ReLU()\n",
       "        (2): Conv2d(160, 32, kernel_size=(3, 3), stride=(1, 1), padding=(1, 1))\n",
       "      )\n",
       "    )\n",
       "  )\n",
       "  (2): Sequential(\n",
       "    (0): BatchNorm2d(192, eps=1e-05, momentum=0.1, affine=True, track_running_stats=True)\n",
       "    (1): ReLU()\n",
       "    (2): Conv2d(192, 96, kernel_size=(1, 1), stride=(1, 1))\n",
       "    (3): AvgPool2d(kernel_size=2, stride=2, padding=0)\n",
       "  )\n",
       "  (3): DenseBlock(\n",
       "    (net): Sequential(\n",
       "      (0): Sequential(\n",
       "        (0): BatchNorm2d(96, eps=1e-05, momentum=0.1, affine=True, track_running_stats=True)\n",
       "        (1): ReLU()\n",
       "        (2): Conv2d(96, 32, kernel_size=(3, 3), stride=(1, 1), padding=(1, 1))\n",
       "      )\n",
       "      (1): Sequential(\n",
       "        (0): BatchNorm2d(128, eps=1e-05, momentum=0.1, affine=True, track_running_stats=True)\n",
       "        (1): ReLU()\n",
       "        (2): Conv2d(128, 32, kernel_size=(3, 3), stride=(1, 1), padding=(1, 1))\n",
       "      )\n",
       "      (2): Sequential(\n",
       "        (0): BatchNorm2d(160, eps=1e-05, momentum=0.1, affine=True, track_running_stats=True)\n",
       "        (1): ReLU()\n",
       "        (2): Conv2d(160, 32, kernel_size=(3, 3), stride=(1, 1), padding=(1, 1))\n",
       "      )\n",
       "      (3): Sequential(\n",
       "        (0): BatchNorm2d(192, eps=1e-05, momentum=0.1, affine=True, track_running_stats=True)\n",
       "        (1): ReLU()\n",
       "        (2): Conv2d(192, 32, kernel_size=(3, 3), stride=(1, 1), padding=(1, 1))\n",
       "      )\n",
       "    )\n",
       "  )\n",
       "  (4): Sequential(\n",
       "    (0): BatchNorm2d(224, eps=1e-05, momentum=0.1, affine=True, track_running_stats=True)\n",
       "    (1): ReLU()\n",
       "    (2): Conv2d(224, 112, kernel_size=(1, 1), stride=(1, 1))\n",
       "    (3): AvgPool2d(kernel_size=2, stride=2, padding=0)\n",
       "  )\n",
       "  (5): DenseBlock(\n",
       "    (net): Sequential(\n",
       "      (0): Sequential(\n",
       "        (0): BatchNorm2d(112, eps=1e-05, momentum=0.1, affine=True, track_running_stats=True)\n",
       "        (1): ReLU()\n",
       "        (2): Conv2d(112, 32, kernel_size=(3, 3), stride=(1, 1), padding=(1, 1))\n",
       "      )\n",
       "      (1): Sequential(\n",
       "        (0): BatchNorm2d(144, eps=1e-05, momentum=0.1, affine=True, track_running_stats=True)\n",
       "        (1): ReLU()\n",
       "        (2): Conv2d(144, 32, kernel_size=(3, 3), stride=(1, 1), padding=(1, 1))\n",
       "      )\n",
       "      (2): Sequential(\n",
       "        (0): BatchNorm2d(176, eps=1e-05, momentum=0.1, affine=True, track_running_stats=True)\n",
       "        (1): ReLU()\n",
       "        (2): Conv2d(176, 32, kernel_size=(3, 3), stride=(1, 1), padding=(1, 1))\n",
       "      )\n",
       "      (3): Sequential(\n",
       "        (0): BatchNorm2d(208, eps=1e-05, momentum=0.1, affine=True, track_running_stats=True)\n",
       "        (1): ReLU()\n",
       "        (2): Conv2d(208, 32, kernel_size=(3, 3), stride=(1, 1), padding=(1, 1))\n",
       "      )\n",
       "    )\n",
       "  )\n",
       "  (6): Sequential(\n",
       "    (0): BatchNorm2d(240, eps=1e-05, momentum=0.1, affine=True, track_running_stats=True)\n",
       "    (1): ReLU()\n",
       "    (2): Conv2d(240, 120, kernel_size=(1, 1), stride=(1, 1))\n",
       "    (3): AvgPool2d(kernel_size=2, stride=2, padding=0)\n",
       "  )\n",
       "  (7): DenseBlock(\n",
       "    (net): Sequential(\n",
       "      (0): Sequential(\n",
       "        (0): BatchNorm2d(120, eps=1e-05, momentum=0.1, affine=True, track_running_stats=True)\n",
       "        (1): ReLU()\n",
       "        (2): Conv2d(120, 32, kernel_size=(3, 3), stride=(1, 1), padding=(1, 1))\n",
       "      )\n",
       "      (1): Sequential(\n",
       "        (0): BatchNorm2d(152, eps=1e-05, momentum=0.1, affine=True, track_running_stats=True)\n",
       "        (1): ReLU()\n",
       "        (2): Conv2d(152, 32, kernel_size=(3, 3), stride=(1, 1), padding=(1, 1))\n",
       "      )\n",
       "      (2): Sequential(\n",
       "        (0): BatchNorm2d(184, eps=1e-05, momentum=0.1, affine=True, track_running_stats=True)\n",
       "        (1): ReLU()\n",
       "        (2): Conv2d(184, 32, kernel_size=(3, 3), stride=(1, 1), padding=(1, 1))\n",
       "      )\n",
       "      (3): Sequential(\n",
       "        (0): BatchNorm2d(216, eps=1e-05, momentum=0.1, affine=True, track_running_stats=True)\n",
       "        (1): ReLU()\n",
       "        (2): Conv2d(216, 32, kernel_size=(3, 3), stride=(1, 1), padding=(1, 1))\n",
       "      )\n",
       "    )\n",
       "  )\n",
       "  (8): BatchNorm2d(248, eps=1e-05, momentum=0.1, affine=True, track_running_stats=True)\n",
       "  (9): ReLU()\n",
       "  (10): AdaptiveAvgPool2d(output_size=(1, 1))\n",
       "  (11): Flatten(start_dim=1, end_dim=-1)\n",
       "  (12): Linear(in_features=248, out_features=10, bias=True)\n",
       ")"
      ]
     },
     "execution_count": 11,
     "metadata": {},
     "output_type": "execute_result"
    }
   ],
   "source": [
    "net"
   ]
  }
 ],
 "metadata": {
  "kernelspec": {
   "display_name": "Python 3 (ipykernel)",
   "language": "python",
   "name": "python3"
  },
  "language_info": {
   "codemirror_mode": {
    "name": "ipython",
    "version": 3
   },
   "file_extension": ".py",
   "mimetype": "text/x-python",
   "name": "python",
   "nbconvert_exporter": "python",
   "pygments_lexer": "ipython3",
   "version": "3.11.6"
  }
 },
 "nbformat": 4,
 "nbformat_minor": 4
}
