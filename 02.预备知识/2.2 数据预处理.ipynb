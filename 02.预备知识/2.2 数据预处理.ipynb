{
 "cells": [
  {
   "cell_type": "markdown",
   "metadata": {
    "origin_pos": 0
   },
   "source": [
    "# 2.2 数据预处理\n",
    "- **目录**\n",
    "  - 2.2.1 读取数据集\n",
    "  - 2.2.2 处理缺失值\n",
    "  - 2.2.3 转换为张量格式\n",
    "<br><br>\n",
    "- 通过Pandas对数据进行预处理并和Pytoch张量兼容。\n",
    "\n",
    "## 2.2.1 读取数据集\n",
    "\n",
    "-  创建一个人工数据集，并存储在CSV（Comma-Separated Values, 逗号分隔值）文件`../data/house_tiny.csv`中。\n",
    "  - 数据集有4行3列。\n",
    "  - 3个字段：包括房间数量（“NumRooms”）、巷子类型（“Alley”）和房屋价格（“Price”）。\n"
   ]
  },
  {
   "cell_type": "code",
   "execution_count": 7,
   "metadata": {
    "origin_pos": 1,
    "tab": [
     "pytorch"
    ]
   },
   "outputs": [],
   "source": [
    "import os\n",
    "os.makedirs(os.path.join('..', 'data'), exist_ok=True)\n",
    "data_file = os.path.join('..', 'data', 'house_tiny.csv')\n",
    "with open(data_file, 'w') as f:\n",
    "    f.write('NumRooms,Alley,Price\\n')  # 列名\n",
    "    f.write('NA,Pave,127500\\n')  # 每行表示一个数据样本\n",
    "    f.write('2,NA,106000\\n') # NA表示Not Available之意：缺失值或不可用的值\n",
    "    f.write('4,NA,178100\\n')\n",
    "    f.write('NA,NA,140000\\n')"
   ]
  },
  {
   "cell_type": "markdown",
   "metadata": {
    "origin_pos": 2
   },
   "source": [
    "- 加载原始数据集\n"
   ]
  },
  {
   "cell_type": "code",
   "execution_count": 8,
   "metadata": {
    "origin_pos": 3,
    "tab": [
     "pytorch"
    ]
   },
   "outputs": [
    {
     "name": "stdout",
     "output_type": "stream",
     "text": [
      "   NumRooms Alley   Price\n",
      "0       NaN  Pave  127500\n",
      "1       2.0   NaN  106000\n",
      "2       4.0   NaN  178100\n",
      "3       NaN   NaN  140000\n"
     ]
    }
   ],
   "source": [
    "# 如果没有安装pandas，只需取消对以下行的注释来安装pandas\n",
    "# !pip install pandas\n",
    "import pandas as pd\n",
    "data = pd.read_csv(data_file)\n",
    "print(data)"
   ]
  },
  {
   "cell_type": "markdown",
   "metadata": {},
   "source": [
    "-------\n",
    "- **说明：NaN与NA的区别与联系**\n",
    "  - NaN的涵义：\n",
    "    -  NaN即\"Not a Number\"之意，是Numpy引入的一个特殊的浮点数值,用于表示未定义或不可表示的数值。\n",
    "    - NaN是由 IEEE 754 浮点数标准定义的,主要有以下特点:\n",
    "      - NaN是一种特殊的浮点数值,不等于任何其他数值,包括它自己。例如, `NaN == NaN`的结果是`False`。\n",
    "      - 任何涉及 NaN 的数学运算都会产生 NaN 作为结果。例如, `1 + NaN`、`NaN * 5`、`NaN / 3` 等都会得到 NaN。\n",
    "      - NaN的比较操作也是特殊的。任何涉及 NaN 的比较操作都会返回 `False`。例如, `NaN < 5`、`NaN >= NaN` 都会返回 `False`。\n",
    "      - NaN 主要用于表示数据中的缺失值或无效值。在 Python 中,当数据中出现无法表示的值时,通常会用 NaN 来代替。\n",
    "      - 即使在整数列中引入 `NaN`，该列也会被提升为浮点数类型。\n",
    "    - 在 Python 中,NaN 通常出现在以下情况:\n",
    "      - 使用 `float('nan')` 或 `numpy.nan` 创建 NaN 值。\n",
    "      - 在数据导入(如 CSV 文件)或数据计算过程中出现无法表示的值。\n",
    "      - 使用 `pandas` 库处理数据时,缺失值通常被表示为 NaN。\n",
    "    - 处理 NaN 值是数据预处理中的一个重要步骤,常见的方法包括插补、删除等。了解 NaN 的特性有助于更好地管理和处理数据中的缺失值。\n",
    "  - NA的涵义：\n",
    "    - NA即\"Not Available\"之意。\n",
    "    - 是Pandas 1.0.0引入的新缺失值标识符，旨在统一和改进缺失值处理。\n",
    "    - NA是一个通用的缺失值标识符，可以用于任何数据类型（整数、浮点数、对象、字符串、布尔等）。\n",
    "  - NaN与NA的区别与联系:\n",
    "    - NaN是IEEE 754浮点数标准定义的一种特殊的浮点数值,用于表示未定义或不可表示的数值。而NA是一个更广义的概念,可以表示任何类型的缺失值。\n",
    "    - NaN主要出现在浮点数计算中,而 NA 可以出现在任何数据类型中,包括整数、字符串等。\n",
    "    - 在Python中,NaN 通常由 `numpy.nan` 表示,而 NA 通常由 `pandas.NA` 表示。\n",
    "    - Pandas 处理缺失值时，NaN 和 NA 可以互换。例如，pd.isna() 函数可以检测到两者。\n",
    "    - 在Pandas中,NA 被用作缺失值的统一标记。当 Pandas 数据结构(Series 或 DataFrame)中的某个单元格没有值时,它会被标记为 `pandas.NA`。这种统一的缺失值标记使得数据分析和处理更加方便和可靠。\n",
    "    - 例如,在 Pandas 中使用 `df.isna()` 可以检查数据框中哪些单元格包含缺失值,使用 `df.fillna()` 可以填充缺失值。\n",
    "    - 在早期版本的 Pandas 中，主要使用 NaN。在较新的版本中，推荐使用 NA，因为它提供了更强大和一致的缺失值处理能力。\n",
    "    - 如需保持列的原始数据类型（例如整数），可以使用 NA 而不是 NaN。"
   ]
  },
  {
   "cell_type": "code",
   "execution_count": 9,
   "metadata": {},
   "outputs": [
    {
     "name": "stdout",
     "output_type": "stream",
     "text": [
      "     A    B\n",
      "0  1.0  4.0\n",
      "1  2.0  NaN\n",
      "2  NaN  6.0\n",
      "      A     B\n",
      "0     1     4\n",
      "1     2  <NA>\n",
      "2  <NA>     6\n",
      "       A      B\n",
      "0  False  False\n",
      "1  False   True\n",
      "2   True  False\n",
      "       A      B\n",
      "0  False  False\n",
      "1  False   True\n",
      "2   True  False\n"
     ]
    }
   ],
   "source": [
    "import pandas as pd\n",
    "import numpy as np\n",
    "\n",
    "# 使用 NaN\n",
    "df_nan = pd.DataFrame({\n",
    "    'A': [1, 2, np.nan],\n",
    "    'B': [4, np.nan, 6]\n",
    "})\n",
    "\n",
    "# 使用 NA\n",
    "df_na = pd.DataFrame({\n",
    "    'A': [1, 2, pd.NA],\n",
    "    'B': [4, pd.NA, 6]\n",
    "})\n",
    "\n",
    "print(df_nan)\n",
    "print(df_na)\n",
    "\n",
    "# 检查缺失值\n",
    "print(df_nan.isna())\n",
    "print(df_na.isna())\n"
   ]
  },
  {
   "cell_type": "markdown",
   "metadata": {},
   "source": [
    "-----------"
   ]
  },
  {
   "cell_type": "markdown",
   "metadata": {
    "origin_pos": 4
   },
   "source": [
    "## 2.2.2 处理缺失值\n",
    "- Python中的“NaN”项代表缺失值。\n",
    "- 处理缺失的数据，典型的方法包括**插值法**和**删除法**：\n",
    "  - 插值法用一个替代值补充缺失值。\n",
    "  - 删除法则直接忽略缺失值。\n",
    "  - 注意：上述所谓插值法，准确讲应该是\"**插补法**\"英语单词为Imputation，而不是插值Interpolation,后者有专门的涵义。\n",
    "- 其他比较重要处理方法可以使用sklearn的插补法\n",
    "- 示例：\n",
    "  - 通过位置索引`iloc`，将`data`分成`inputs`和`outputs`。\n",
    "  - `inputs`为`data`的前两列，`outputs`为`data`的最后一列。\n",
    "  - 对于`inputs`中缺少的数值，使用同一列的均值替换“NaN”项。\n"
   ]
  },
  {
   "cell_type": "code",
   "execution_count": 11,
   "metadata": {
    "origin_pos": 5,
    "tab": [
     "pytorch"
    ]
   },
   "outputs": [
    {
     "name": "stdout",
     "output_type": "stream",
     "text": [
      "   NumRooms Alley\n",
      "0       3.0  Pave\n",
      "1       2.0   NaN\n",
      "2       4.0   NaN\n",
      "3       3.0   NaN\n"
     ]
    }
   ],
   "source": [
    "inputs, outputs = data.iloc[:, 0:2], data.iloc[:, 2]\n",
    "inputs = inputs.fillna(inputs.mean(numeric_only=True))\n",
    "print(inputs)"
   ]
  },
  {
   "cell_type": "markdown",
   "metadata": {
    "origin_pos": 6
   },
   "source": [
    "- 对于`inputs`中的**类别值**或**离散值**，可将“NaN”视为一个类别：\n",
    "  - “巷子类型”（“Alley”）列只接受两种类型的类别值“Pave”和“NaN”。\n",
    "  - pandas可以自动将此列转换为两列“Alley_Pave”和“Alley_nan”。\n",
    "  - 巷子类型为“Pave”的行会将“Alley_Pave”的值设置为1，“Alley_nan”的值设置为0。\n",
    "  - 缺少巷子类型的行会将“Alley_Pave”和“Alley_nan”分别设置为0和1。\n"
   ]
  },
  {
   "cell_type": "code",
   "execution_count": 12,
   "metadata": {
    "origin_pos": 7,
    "tab": [
     "pytorch"
    ]
   },
   "outputs": [
    {
     "name": "stdout",
     "output_type": "stream",
     "text": [
      "   NumRooms  Alley_Pave  Alley_nan\n",
      "0         3           1          0\n",
      "1         2           0          1\n",
      "2         4           0          1\n",
      "3         3           0          1\n"
     ]
    }
   ],
   "source": [
    "inputs = pd.get_dummies(inputs, dummy_na=True)\n",
    "inputs = inputs.astype(int)\n",
    "print(inputs)"
   ]
  },
  {
   "cell_type": "code",
   "execution_count": 13,
   "metadata": {},
   "outputs": [
    {
     "data": {
      "text/plain": [
       "0    1\n",
       "1    0\n",
       "2    0\n",
       "3    0\n",
       "Name: Alley_Pave, dtype: int32"
      ]
     },
     "execution_count": 13,
     "metadata": {},
     "output_type": "execute_result"
    }
   ],
   "source": [
    "inputs['Alley_Pave']"
   ]
  },
  {
   "cell_type": "markdown",
   "metadata": {},
   "source": [
    "- 在`scikit-learn`库中，提供了不同的方法来处理数据中的缺失值。\n",
    "  - 包括`SimpleImputer`、`KNNImputer`和`IterativeImputer`等。\n",
    "- 示例：\n",
    "  - 使用`SimpleImputer`"
   ]
  },
  {
   "cell_type": "code",
   "execution_count": 14,
   "metadata": {
    "tags": []
   },
   "outputs": [
    {
     "data": {
      "text/plain": [
       "0    NaN\n",
       "1    2.0\n",
       "2    4.0\n",
       "3    NaN\n",
       "Name: NumRooms, dtype: float64"
      ]
     },
     "execution_count": 14,
     "metadata": {},
     "output_type": "execute_result"
    }
   ],
   "source": [
    "data.iloc[:,0]"
   ]
  },
  {
   "cell_type": "code",
   "execution_count": 15,
   "metadata": {
    "tags": []
   },
   "outputs": [
    {
     "data": {
      "text/html": [
       "<div>\n",
       "<style scoped>\n",
       "    .dataframe tbody tr th:only-of-type {\n",
       "        vertical-align: middle;\n",
       "    }\n",
       "\n",
       "    .dataframe tbody tr th {\n",
       "        vertical-align: top;\n",
       "    }\n",
       "\n",
       "    .dataframe thead th {\n",
       "        text-align: right;\n",
       "    }\n",
       "</style>\n",
       "<table border=\"1\" class=\"dataframe\">\n",
       "  <thead>\n",
       "    <tr style=\"text-align: right;\">\n",
       "      <th></th>\n",
       "      <th>NumRooms</th>\n",
       "    </tr>\n",
       "  </thead>\n",
       "  <tbody>\n",
       "    <tr>\n",
       "      <th>0</th>\n",
       "      <td>3.0</td>\n",
       "    </tr>\n",
       "    <tr>\n",
       "      <th>1</th>\n",
       "      <td>2.0</td>\n",
       "    </tr>\n",
       "    <tr>\n",
       "      <th>2</th>\n",
       "      <td>4.0</td>\n",
       "    </tr>\n",
       "    <tr>\n",
       "      <th>3</th>\n",
       "      <td>3.0</td>\n",
       "    </tr>\n",
       "  </tbody>\n",
       "</table>\n",
       "</div>"
      ],
      "text/plain": [
       "   NumRooms\n",
       "0       3.0\n",
       "1       2.0\n",
       "2       4.0\n",
       "3       3.0"
      ]
     },
     "execution_count": 15,
     "metadata": {},
     "output_type": "execute_result"
    }
   ],
   "source": [
    "import numpy as np\n",
    "import pandas as pd\n",
    "from sklearn.impute import SimpleImputer\n",
    "\n",
    "# 创建一个包含空值的数据框（原示例数据）\n",
    "df = pd.DataFrame(data.iloc[:,0])\n",
    "\n",
    "# 使用SimpleImputer处理缺失值\n",
    "imputer = SimpleImputer(missing_values=np.nan, strategy='mean')\n",
    "imputed_df = imputer.fit_transform(df)\n",
    "\n",
    "# 将处理后的NumPy数组转换回DataFrame\n",
    "imputed_df = pd.DataFrame(imputed_df, columns=df.columns)\n",
    "imputed_df"
   ]
  },
  {
   "cell_type": "code",
   "execution_count": 17,
   "metadata": {},
   "outputs": [
    {
     "data": {
      "text/plain": [
       "\u001b[1;31mInit signature:\u001b[0m\n",
       "\u001b[0mSimpleImputer\u001b[0m\u001b[1;33m(\u001b[0m\u001b[1;33m\n",
       "\u001b[0m    \u001b[1;33m*\u001b[0m\u001b[1;33m,\u001b[0m\u001b[1;33m\n",
       "\u001b[0m    \u001b[0mmissing_values\u001b[0m\u001b[1;33m=\u001b[0m\u001b[0mnan\u001b[0m\u001b[1;33m,\u001b[0m\u001b[1;33m\n",
       "\u001b[0m    \u001b[0mstrategy\u001b[0m\u001b[1;33m=\u001b[0m\u001b[1;34m'mean'\u001b[0m\u001b[1;33m,\u001b[0m\u001b[1;33m\n",
       "\u001b[0m    \u001b[0mfill_value\u001b[0m\u001b[1;33m=\u001b[0m\u001b[1;32mNone\u001b[0m\u001b[1;33m,\u001b[0m\u001b[1;33m\n",
       "\u001b[0m    \u001b[0mverbose\u001b[0m\u001b[1;33m=\u001b[0m\u001b[1;34m'deprecated'\u001b[0m\u001b[1;33m,\u001b[0m\u001b[1;33m\n",
       "\u001b[0m    \u001b[0mcopy\u001b[0m\u001b[1;33m=\u001b[0m\u001b[1;32mTrue\u001b[0m\u001b[1;33m,\u001b[0m\u001b[1;33m\n",
       "\u001b[0m    \u001b[0madd_indicator\u001b[0m\u001b[1;33m=\u001b[0m\u001b[1;32mFalse\u001b[0m\u001b[1;33m,\u001b[0m\u001b[1;33m\n",
       "\u001b[0m    \u001b[0mkeep_empty_features\u001b[0m\u001b[1;33m=\u001b[0m\u001b[1;32mFalse\u001b[0m\u001b[1;33m,\u001b[0m\u001b[1;33m\n",
       "\u001b[0m\u001b[1;33m)\u001b[0m\u001b[1;33m\u001b[0m\u001b[1;33m\u001b[0m\u001b[0m\n",
       "\u001b[1;31mDocstring:\u001b[0m     \n",
       "Univariate imputer for completing missing values with simple strategies.\n",
       "\n",
       "Replace missing values using a descriptive statistic (e.g. mean, median, or\n",
       "most frequent) along each column, or using a constant value.\n",
       "\n",
       "Read more in the :ref:`User Guide <impute>`.\n",
       "\n",
       ".. versionadded:: 0.20\n",
       "   `SimpleImputer` replaces the previous `sklearn.preprocessing.Imputer`\n",
       "   estimator which is now removed.\n",
       "\n",
       "Parameters\n",
       "----------\n",
       "missing_values : int, float, str, np.nan, None or pandas.NA, default=np.nan\n",
       "    The placeholder for the missing values. All occurrences of\n",
       "    `missing_values` will be imputed. For pandas' dataframes with\n",
       "    nullable integer dtypes with missing values, `missing_values`\n",
       "    can be set to either `np.nan` or `pd.NA`.\n",
       "\n",
       "strategy : str, default='mean'\n",
       "    The imputation strategy.\n",
       "\n",
       "    - If \"mean\", then replace missing values using the mean along\n",
       "      each column. Can only be used with numeric data.\n",
       "    - If \"median\", then replace missing values using the median along\n",
       "      each column. Can only be used with numeric data.\n",
       "    - If \"most_frequent\", then replace missing using the most frequent\n",
       "      value along each column. Can be used with strings or numeric data.\n",
       "      If there is more than one such value, only the smallest is returned.\n",
       "    - If \"constant\", then replace missing values with fill_value. Can be\n",
       "      used with strings or numeric data.\n",
       "\n",
       "    .. versionadded:: 0.20\n",
       "       strategy=\"constant\" for fixed value imputation.\n",
       "\n",
       "fill_value : str or numerical value, default=None\n",
       "    When strategy == \"constant\", `fill_value` is used to replace all\n",
       "    occurrences of missing_values. For string or object data types,\n",
       "    `fill_value` must be a string.\n",
       "    If `None`, `fill_value` will be 0 when imputing numerical\n",
       "    data and \"missing_value\" for strings or object data types.\n",
       "\n",
       "verbose : int, default=0\n",
       "    Controls the verbosity of the imputer.\n",
       "\n",
       "    .. deprecated:: 1.1\n",
       "       The 'verbose' parameter was deprecated in version 1.1 and will be\n",
       "       removed in 1.3. A warning will always be raised upon the removal of\n",
       "       empty columns in the future version.\n",
       "\n",
       "copy : bool, default=True\n",
       "    If True, a copy of X will be created. If False, imputation will\n",
       "    be done in-place whenever possible. Note that, in the following cases,\n",
       "    a new copy will always be made, even if `copy=False`:\n",
       "\n",
       "    - If `X` is not an array of floating values;\n",
       "    - If `X` is encoded as a CSR matrix;\n",
       "    - If `add_indicator=True`.\n",
       "\n",
       "add_indicator : bool, default=False\n",
       "    If True, a :class:`MissingIndicator` transform will stack onto output\n",
       "    of the imputer's transform. This allows a predictive estimator\n",
       "    to account for missingness despite imputation. If a feature has no\n",
       "    missing values at fit/train time, the feature won't appear on\n",
       "    the missing indicator even if there are missing values at\n",
       "    transform/test time.\n",
       "\n",
       "keep_empty_features : bool, default=False\n",
       "    If True, features that consist exclusively of missing values when\n",
       "    `fit` is called are returned in results when `transform` is called.\n",
       "    The imputed value is always `0` except when `strategy=\"constant\"`\n",
       "    in which case `fill_value` will be used instead.\n",
       "\n",
       "    .. versionadded:: 1.2\n",
       "\n",
       "Attributes\n",
       "----------\n",
       "statistics_ : array of shape (n_features,)\n",
       "    The imputation fill value for each feature.\n",
       "    Computing statistics can result in `np.nan` values.\n",
       "    During :meth:`transform`, features corresponding to `np.nan`\n",
       "    statistics will be discarded.\n",
       "\n",
       "indicator_ : :class:`~sklearn.impute.MissingIndicator`\n",
       "    Indicator used to add binary indicators for missing values.\n",
       "    `None` if `add_indicator=False`.\n",
       "\n",
       "n_features_in_ : int\n",
       "    Number of features seen during :term:`fit`.\n",
       "\n",
       "    .. versionadded:: 0.24\n",
       "\n",
       "feature_names_in_ : ndarray of shape (`n_features_in_`,)\n",
       "    Names of features seen during :term:`fit`. Defined only when `X`\n",
       "    has feature names that are all strings.\n",
       "\n",
       "    .. versionadded:: 1.0\n",
       "\n",
       "See Also\n",
       "--------\n",
       "IterativeImputer : Multivariate imputer that estimates values to impute for\n",
       "    each feature with missing values from all the others.\n",
       "KNNImputer : Multivariate imputer that estimates missing features using\n",
       "    nearest samples.\n",
       "\n",
       "Notes\n",
       "-----\n",
       "Columns which only contained missing values at :meth:`fit` are discarded\n",
       "upon :meth:`transform` if strategy is not `\"constant\"`.\n",
       "\n",
       "In a prediction context, simple imputation usually performs poorly when\n",
       "associated with a weak learner. However, with a powerful learner, it can\n",
       "lead to as good or better performance than complex imputation such as\n",
       ":class:`~sklearn.impute.IterativeImputer` or :class:`~sklearn.impute.KNNImputer`.\n",
       "\n",
       "Examples\n",
       "--------\n",
       ">>> import numpy as np\n",
       ">>> from sklearn.impute import SimpleImputer\n",
       ">>> imp_mean = SimpleImputer(missing_values=np.nan, strategy='mean')\n",
       ">>> imp_mean.fit([[7, 2, 3], [4, np.nan, 6], [10, 5, 9]])\n",
       "SimpleImputer()\n",
       ">>> X = [[np.nan, 2, 3], [4, np.nan, 6], [10, np.nan, 9]]\n",
       ">>> print(imp_mean.transform(X))\n",
       "[[ 7.   2.   3. ]\n",
       " [ 4.   3.5  6. ]\n",
       " [10.   3.5  9. ]]\n",
       "\u001b[1;31mFile:\u001b[0m           f:\\users\\hp\\appdata\\local\\programs\\python\\python311\\lib\\site-packages\\sklearn\\impute\\_base.py\n",
       "\u001b[1;31mType:\u001b[0m           type\n",
       "\u001b[1;31mSubclasses:\u001b[0m     "
      ]
     },
     "metadata": {},
     "output_type": "display_data"
    }
   ],
   "source": [
    "from sklearn.impute import SimpleImputer\n",
    "SimpleImputer?"
   ]
  },
  {
   "cell_type": "markdown",
   "metadata": {
    "origin_pos": 8
   },
   "source": [
    "## 2.2.3 转换为张量格式\n",
    "\n",
    "- 现在`inputs`和`outputs`中的所有条目都是数值类型，它们可以转换为张量格式。\n",
    "- 通过`torch.tensor()`函数转换成张量。"
   ]
  },
  {
   "cell_type": "code",
   "execution_count": 18,
   "metadata": {
    "origin_pos": 10,
    "tab": [
     "pytorch"
    ]
   },
   "outputs": [
    {
     "data": {
      "text/plain": [
       "(tensor([[3, 1, 0],\n",
       "         [2, 0, 1],\n",
       "         [4, 0, 1],\n",
       "         [3, 0, 1]], dtype=torch.int32),\n",
       " tensor([127500, 106000, 178100, 140000]))"
      ]
     },
     "execution_count": 18,
     "metadata": {},
     "output_type": "execute_result"
    }
   ],
   "source": [
    "import torch\n",
    "X, y = torch.tensor(inputs.values), torch.tensor(outputs.values)\n",
    "X, y"
   ]
  },
  {
   "cell_type": "markdown",
   "metadata": {
    "origin_pos": 12
   },
   "source": [
    "## 小结\n",
    "\n",
    "* `pandas`软件包是Python中常用的数据分析工具，`pandas`可以与张量兼容。\n",
    "* 用`pandas`处理缺失的数据时，我们可根据情况选择用插值法和删除法。\n",
    "* sklearn包中的插补器工具功能更加强大，在数据预处理时需要掌握。\n",
    "\n",
    "\n"
   ]
  }
 ],
 "metadata": {
  "kernelspec": {
   "display_name": "Python 3 (ipykernel)",
   "language": "python",
   "name": "python3"
  },
  "language_info": {
   "codemirror_mode": {
    "name": "ipython",
    "version": 3
   },
   "file_extension": ".py",
   "mimetype": "text/x-python",
   "name": "python",
   "nbconvert_exporter": "python",
   "pygments_lexer": "ipython3",
   "version": "3.11.6"
  }
 },
 "nbformat": 4,
 "nbformat_minor": 4
}
