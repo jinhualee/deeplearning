{
 "cells": [
  {
   "cell_type": "markdown",
   "metadata": {
    "origin_pos": 0
   },
   "source": [
    "#  2 预备知识\n",
    "- **目录**\n",
    "  - 2.1 数据操作\n",
    "  - 2.2 数据预处理\n",
    "  - 2.3 线性代数\n",
    "  - 2.4 微积分\n",
    "  - 2.5 自动微分\n",
    "  - 2.6 概率\n",
    "  - 2.7 查阅文档\n",
    "<br><br>\n",
    "- **要点：**\n",
    "  - 学习深度学习之前需掌握一些基本技能，重点是从数据中提取信息的能力。\n",
    "  - 讲解如何存储、操作和预处理数据，由于机器学习常处理大型数据集。\n",
    "  - 线性代数提供处理表格数据的方法，本章将重点介绍矩阵运算的基本原理及其实现。\n",
    "  - 深入学习深度学习是对优化方法的学习，包括模型参数的调整和寻找最佳拟合模型。\n",
    "  - 微积分知识是必要的，尤其是了解如何调整模型参数；autograd包可以自动计算微分，本章将进行介绍。\n",
    "  - 机器学习包括如何做出预测和在不确定情况下进行严格的推断，需要借助概率统计。\n",
    "  - 本书的学习不要求读者有深厚的数学基础，但会快速介绍一些基本且常用的数学知识以理解大部分内容。\n",
    "  - 官方文档提供了书本之外大量的描述和示例，章节结尾将指导如何查找所需信息。"
   ]
  }
 ],
 "metadata": {
  "kernelspec": {
   "display_name": "Python 3 (ipykernel)",
   "language": "python",
   "name": "python3"
  },
  "language_info": {
   "codemirror_mode": {
    "name": "ipython",
    "version": 3
   },
   "file_extension": ".py",
   "mimetype": "text/x-python",
   "name": "python",
   "nbconvert_exporter": "python",
   "pygments_lexer": "ipython3",
   "version": "3.11.6"
  }
 },
 "nbformat": 4,
 "nbformat_minor": 4
}
