{
 "cells": [
  {
   "cell_type": "markdown",
   "metadata": {
    "origin_pos": 0
   },
   "source": [
    "# 6 卷积神经网络\n",
    "\n",
    "- **目录**\n",
    "  - 6.1 从全连接层到卷积\n",
    "  - 6.2 图像卷积\n",
    "  - 6.3 填充和步幅\n",
    "  - 6.4 多输入多输出通道\n",
    "  - 6.5 池化层\n",
    "  - 6.6 卷积神经网络（LeNet）\n",
    "<br><br>\n",
    "- **要点：**\n",
    "  - 图像数据具有丰富的空间结构信息，传统处理方式（如全连接多层感知机）未充分利用这些信息。\n",
    "  - 卷积神经网络（CNN）是一类强大的神经网络，专为处理图像数据而设计，现已在计算机视觉领域占主导地位。\n",
    "  - CNN的设计受益于生物学、群论和实验证据，参数数量较少，易于GPU并行计算。\n",
    "  - CNN在其他类型数据上（如音频、文本、时间序列等）也越来越受欢迎，并可通过调整用于图结构数据和推荐系统。\n",
    "  - 本章将介绍CNN的基本元素，包括：**卷积层、填充、步幅、池化层、多通道**以及现代CNN架构的讨论。\n",
    "  - 展示一个完整的LeNet模型，作为第一个成功应用的CNN实例。"
   ]
  }
 ],
 "metadata": {
  "kernelspec": {
   "display_name": "Python 3 (ipykernel)",
   "language": "python",
   "name": "python3"
  },
  "language_info": {
   "codemirror_mode": {
    "name": "ipython",
    "version": 3
   },
   "file_extension": ".py",
   "mimetype": "text/x-python",
   "name": "python",
   "nbconvert_exporter": "python",
   "pygments_lexer": "ipython3",
   "version": "3.11.6"
  }
 },
 "nbformat": 4,
 "nbformat_minor": 4
}
