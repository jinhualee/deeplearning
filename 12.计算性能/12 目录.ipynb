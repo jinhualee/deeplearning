{
 "cells": [
  {
   "cell_type": "markdown",
   "metadata": {
    "origin_pos": 0
   },
   "source": [
    "#  12 计算性能¶\n",
    "- **目录**\n",
    "  - 12.1 编译器和解释器\n",
    "  - 12.2 异步计算\n",
    "  - 12.3 自动并行\n",
    "  - 12.4 硬件环境\n",
    "  - 12.5 多GPU训练\n",
    "  - 12.6 多GPU的简洁实现\n",
    "  - 12.7 参数服务器\n",
    "<br><br>\n",
    "- **要点**\n",
    "  - 在深度学习中，数据集和模型通常都很大，导致计算量也会很大。\n",
    "  - 因此，计算的性能非常重要。 \n",
    "  - 本章将集中讨论影响计算性能的主要因素：命令式编程、符号编程、 异步计算、自动并行和多GPU计算。 \n",
    "  - 通过学习本章，对于前几章中实现的那些模型，可以进一步提高它们的计算性能。 \n",
    "  - 例如，我们可以在不影响准确性的前提下，大大减少训练时间。\n"
   ]
  }
 ],
 "metadata": {
  "kernelspec": {
   "display_name": "Python 3 (ipykernel)",
   "language": "python",
   "name": "python3"
  },
  "language_info": {
   "codemirror_mode": {
    "name": "ipython",
    "version": 3
   },
   "file_extension": ".py",
   "mimetype": "text/x-python",
   "name": "python",
   "nbconvert_exporter": "python",
   "pygments_lexer": "ipython3",
   "version": "3.11.6"
  }
 },
 "nbformat": 4,
 "nbformat_minor": 4
}
