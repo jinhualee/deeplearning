{
 "cells": [
  {
   "cell_type": "markdown",
   "metadata": {
    "origin_pos": 0
   },
   "source": [
    "# 9 现代循环神经网络\n",
    "\n",
    "- **目录**\n",
    "  - 9.1 门控循环单元（GRU）\n",
    "  - 9.2 长短期记忆网络（LSTM）\n",
    "  - 9.3 深度循环神经网络\n",
    "  - 9.4 双向循环神经网络\n",
    "  - 9.5 机器翻译与数据集\n",
    "  - 9.6 编码器-解码器架构\n",
    "  - 9.7 序列到序列学习（seq2seq）\n",
    "  - 9.8 束搜索\n",
    "<br><br>\n",
    "- **要点：**\n",
    "  - 循环神经网络（RNN）在处理序列数据方面有优势，但在实际应用中可能会遇到**数值不稳定性**问题。\n",
    "  - 为了解决这个问题，可以设计更复杂的序列模型，如**门控循环单元（GRU）**和**长短期记忆网络（LSTM）**。\n",
    "  - 可以通过增加隐藏层来扩展RNN架构，包括**深层架构**（具有多个隐藏层）和**双向设计**（基于前向和后向循环计算）。\n",
    "  - 语言建模只是序列学习能力的一个应用，其他应用包括自动语音识别、文本到语音转换和机器翻译等，这些问题的输入和输出都是任意长度的序列。\n",
    "  - 为了处理这种类型的数据，可以使用基于RNN的**编码器-解码器** 架构和**束搜索**来生成序列，以机器翻译为例进行介绍。"
   ]
  }
 ],
 "metadata": {
  "kernelspec": {
   "display_name": "Python 3 (ipykernel)",
   "language": "python",
   "name": "python3"
  },
  "language_info": {
   "codemirror_mode": {
    "name": "ipython",
    "version": 3
   },
   "file_extension": ".py",
   "mimetype": "text/x-python",
   "name": "python",
   "nbconvert_exporter": "python",
   "pygments_lexer": "ipython3",
   "version": "3.11.6"
  }
 },
 "nbformat": 4,
 "nbformat_minor": 4
}
