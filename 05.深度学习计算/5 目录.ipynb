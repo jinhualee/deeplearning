{
 "cells": [
  {
   "cell_type": "markdown",
   "metadata": {
    "origin_pos": 0
   },
   "source": [
    "# 5 深度学习计算\n",
    "\n",
    "- **目录**\n",
    "  - 5.1 层和块\n",
    "  - 5.2 参数管理\n",
    "  - 5.3 延后初始化\n",
    "  - 5.4 自定义层\n",
    "  - 5.5 读写文件\n",
    "  - 5.6 使用GPU\n",
    "<br><br>\n",
    "- **要点：**\n",
    "  - 优秀的软件工具在深度学习发展中起着关键作用，开源工具使研究人员能够快速开发模型原型。\n",
    "  - 深度学习库演变为提供越来越粗粒度的抽象，研究人员从考虑单个神经元到构建网络层和更粗粒度的块。\n",
    "  - 本章将探讨深度学习计算的关键组件，包括：模型构建、参数访问与初始化、设计自定义层和块、模型读写到磁盘以及利用GPU实现加速。\n",
    "  - 学习这些知识可以使你从深度学习“基础用户”变为“高级用户”，为后续高级模型章节打下基础。\n"
   ]
  }
 ],
 "metadata": {
  "kernelspec": {
   "display_name": "Python 3 (ipykernel)",
   "language": "python",
   "name": "python3"
  },
  "language_info": {
   "codemirror_mode": {
    "name": "ipython",
    "version": 3
   },
   "file_extension": ".py",
   "mimetype": "text/x-python",
   "name": "python",
   "nbconvert_exporter": "python",
   "pygments_lexer": "ipython3",
   "version": "3.11.6"
  }
 },
 "nbformat": 4,
 "nbformat_minor": 4
}
