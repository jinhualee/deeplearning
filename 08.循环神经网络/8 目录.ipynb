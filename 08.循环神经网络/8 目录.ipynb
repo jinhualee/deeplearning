{
 "cells": [
  {
   "cell_type": "markdown",
   "metadata": {
    "origin_pos": 0
   },
   "source": [
    "# 8 循环神经网络\n",
    "\n",
    "\n",
    "- **目录**\n",
    "  - 8.1 序列模型\n",
    "  - 8.2 文本预处理\n",
    "  - 8.3 语言模型和数据集\n",
    "  - 8.4 循环神经网络\n",
    "  - 8.5 循环神经网络的从零开始实现\n",
    "  - 8.6 循环神经网络的简洁实现\n",
    "  - 8.7 通过时间反向传播\n",
    "<br><br>\n",
    "- **要点：**\n",
    "  - 大多数的数据**并非**独立同分布（i.i.d.）。\n",
    "    - 如文章中的单词、视频中的图像帧、对话中的音频信号以及网站上的浏览行为等都是有顺序的。\n",
    "  - 模型不仅可以接收一个**序列**作为输入，而且可能期望继续预测这个序列的后续。\n",
    "    - 这在时间序列分析中是相当常见的，如预测股市的波动、患者的体温曲线或者赛车所需的加速度等。\n",
    "  - 循环神经网络（RNN）可以更好地处理序列信息。\n",
    "    - 通过引入状态变量存储过去的信息和当前的输入，从而可以确定当前的输出。\n",
    "  - 许多使用循环网络的例子都是基于**文本数据**的，因此本章将重点介绍语言模型。\n",
    "  - 在对序列数据进行更详细的回顾之后，本章将介绍**文本预处理**的实用技术。\n",
    "  - 本章将讨论语言模型的基本概念，并将此讨论作为**循环神经网络**设计的灵感。\n",
    "  - 本章描述了循环神经网络的**梯度计算**方法，以探讨训练此类网络时可能遇到的问题。"
   ]
  },
  {
   "cell_type": "code",
   "execution_count": null,
   "metadata": {},
   "outputs": [],
   "source": []
  }
 ],
 "metadata": {
  "kernelspec": {
   "display_name": "Python 3 (ipykernel)",
   "language": "python",
   "name": "python3"
  },
  "language_info": {
   "codemirror_mode": {
    "name": "ipython",
    "version": 3
   },
   "file_extension": ".py",
   "mimetype": "text/x-python",
   "name": "python",
   "nbconvert_exporter": "python",
   "pygments_lexer": "ipython3",
   "version": "3.11.6"
  }
 },
 "nbformat": 4,
 "nbformat_minor": 4
}
