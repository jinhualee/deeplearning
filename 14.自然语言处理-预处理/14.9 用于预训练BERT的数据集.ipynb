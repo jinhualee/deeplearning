{
 "cells": [
  {
   "cell_type": "markdown",
   "metadata": {
    "origin_pos": 0
   },
   "source": [
    "# 14.9 用于预训练BERT的数据集\n",
    "- **目录**\n",
    "  - 14.9.1 为预训练任务定义辅助函数\n",
    "    - 14.9.1.1 生成下一句预测任务的数据\n",
    "    - 14.9.1.2 生成遮蔽语言模型任务的数据\n",
    "  - 14.9.2 将文本转换为预训练数据集"
   ]
  },
  {
   "cell_type": "markdown",
   "metadata": {
    "origin_pos": 0
   },
   "source": [
    "为了预训练 14.8节中实现的BERT模型，我们需要以理想的格式生成数据集，以便于**两个预训练任务：遮蔽语言模型和下一句预测。** 一方面，最初的BERT模型是在两个庞大的图书语料库和英语维基百科（参见 14.8.5节）的合集上预训练的，但它很难吸引这本书的大多数读者。另一方面，现成的预训练BERT模型可能不适合医学等特定领域的应用。因此，在定制的数据集上对BERT进行预训练变得越来越流行。为了方便BERT预训练的演示，我们使用了较小的语料库WikiText-2。\n",
    "与 14.3节中用于预训练word2vec的PTB数据集相比，WikiText-2（1）保留了原来的标点符号，适合于下一句预测；（2）保留了原来的大小写和数字；（3）大了一倍以上。\n",
    "- **要点：**\n",
    "  - **BERT的预训练任务**：\n",
    "    - BERT模型的预训练涉及两个主要任务：遮蔽语言模型和下一句预测。\n",
    "  - **原始的BERT预训练数据集**：\n",
    "    - 最初的BERT模型是在两个大型数据集：图书语料库和英语维基百科的合集上预训练的。\n",
    "  - **现成的BERT与定制领域的差异**：\n",
    "    - 虽然可以获得现成的预训练BERT模型，但这些模型可能不适合特定的应用领域，如医学。因此，在特定的数据集上自行预训练BERT变得越来越受欢迎。\n",
    "  - **WikiText-2数据集**：\n",
    "    - 为了演示BERT的预训练，文中使用了WikiText-2这一较小的语料库。\n",
    "    - 与PTB数据集相比，WikiText-2有以下特点：\n",
    "      - 保留了原始的标点符号，使其适用于下一句预测任务。\n",
    "      - 保留了原始的大小写和数字。\n",
    "      -  它的大小是PTB数据集的两倍多。"
   ]
  },
  {
   "cell_type": "code",
   "execution_count": 3,
   "metadata": {
    "origin_pos": 2,
    "tab": [
     "pytorch"
    ]
   },
   "outputs": [],
   "source": [
    "%matplotlib inline\n",
    "import os\n",
    "import random\n",
    "import torch\n",
    "from d2l import torch as d2l"
   ]
  },
  {
   "cell_type": "markdown",
   "metadata": {
    "origin_pos": 3
   },
   "source": [
    "- 在WikiText-2数据集中，每行代表一个段落，其中在任意标点符号及其前面的词元之间插入空格。\n",
    "- 保留至少有两句话的段落。为了简单起见，我们仅使用句号作为分隔符来拆分句子。\n",
    "- 我们将更复杂的句子拆分技术的讨论留在本节末尾的练习中。\n"
   ]
  },
  {
   "cell_type": "code",
   "execution_count": 7,
   "metadata": {
    "origin_pos": 4,
    "tab": [
     "pytorch"
    ]
   },
   "outputs": [],
   "source": [
    "#@save\n",
    "d2l.DATA_HUB['wikitext-2'] = (\n",
    "    'https://s3.amazonaws.com/research.metamind.io/wikitext/'\n",
    "    'wikitext-2-v1.zip', '3c914d17d80b1459be871a5039ac23e752a53cbe')\n",
    "\n",
    "#@save\n",
    "'''\n",
    "提取段落，paragraphs：二维数组，每个元素是由多个句子构成的的一维数组（段落）,\n",
    "段落中的句子个数不等（1-35）。\n",
    "'''\n",
    "def _read_wiki(data_dir):\n",
    "    file_name = os.path.join(data_dir, 'wiki.train.tokens')\n",
    "    with open(file_name, 'r', encoding='utf-8') as f:\n",
    "        lines = f.readlines()\n",
    "    # 大写字母转换为小写字母\n",
    "    ## 使用句号.来拆分句子\n",
    "    ## 注意即使某个line里只有一个句子，其分割长度也至少等于2\n",
    "    paragraphs = [line.strip().lower().split(' . ')\n",
    "                  for line in lines if len(line.split(' . ')) >= 2]\n",
    "    \n",
    "    '''\n",
    "    paragraphs是一个二维list，保存每个段落，每个段落又是一个一维list，保存该段落的所有句子。\n",
    "    句子个数从1-35不等。\n",
    "    shuffle打乱的是段落顺序，而不是每个段落的句子顺序。\n",
    "    '''\n",
    "    random.shuffle(paragraphs)\n",
    "    return paragraphs"
   ]
  },
  {
   "cell_type": "markdown",
   "metadata": {},
   "source": [
    "-------------\n",
    "- **说明：_read_wiki函数解读**"
   ]
  },
  {
   "cell_type": "code",
   "execution_count": 11,
   "metadata": {},
   "outputs": [
    {
     "data": {
      "text/plain": [
       "(1,\n",
       " 35,\n",
       " ['on returning to london , wheeler moved into a top @-@ floor flat near gordon square with his wife and child',\n",
       "  'he returned to working for the royal commission , examining and <unk> the historic structures of essex',\n",
       "  \"in doing so , he produced his first publication , an academic paper on colchester 's roman <unk> gate which was published in the transactions of the essex archaeological society in 1920\",\n",
       "  \"he soon followed this with two papers in the journal of roman studies ; the first offered a wider analysis of roman colchester , while the latter outlined his discovery of the vaulting for the city 's temple of claudius which was destroyed by <unk> 's revolt\",\n",
       "  'in doing so , he developed a reputation as a roman archaeologist in britain',\n",
       "  'he then submitted his research on romano @-@ rhenish pots to the university of london , on the basis of which he was awarded his doctorate of letters ; <unk> until his knighthood he styled himself as dr wheeler',\n",
       "  'he was unsatisfied with his job in the commission , unhappy that he was receiving less pay and a lower status than he had had in the army , and so began to seek out alternative employment .'])"
      ]
     },
     "execution_count": 11,
     "metadata": {},
     "output_type": "execute_result"
    }
   ],
   "source": [
    "## _read_wiki函数测试\n",
    "\n",
    "path = r'..\\data\\wikitext-2'\n",
    "ps = _read_wiki(path)\n",
    "l=[]\n",
    "for p in ps:\n",
    "    l.append(len(p))\n",
    "min(l),max(l),ps[0]"
   ]
  },
  {
   "cell_type": "code",
   "execution_count": 12,
   "metadata": {},
   "outputs": [],
   "source": [
    "## 后文中应用到词元化中的代码，目的是取出所有句子，让在一个一维列表里\n",
    "#[sentence for p in ps for sentence in p]"
   ]
  },
  {
   "cell_type": "code",
   "execution_count": 13,
   "metadata": {},
   "outputs": [
    {
     "data": {
      "text/plain": [
       "[1, 2, 3, 5, 6, 7]"
      ]
     },
     "execution_count": 13,
     "metadata": {},
     "output_type": "execute_result"
    }
   ],
   "source": [
    "'''\n",
    "两次迭代能够将二维数组迭代取出所有元素放在一个数组里。\n",
    "先外层迭代，然后再内层迭代。\n",
    "j in l外层迭代，i in j 内层迭代。\n",
    "'''\n",
    "l=[[1,2,3],[5,6,7]]\n",
    "[i for j in l for i in j]"
   ]
  },
  {
   "cell_type": "code",
   "execution_count": 14,
   "metadata": {},
   "outputs": [
    {
     "data": {
      "text/plain": [
       "[1, 2, 3, 5, 6, 7]"
      ]
     },
     "execution_count": 14,
     "metadata": {},
     "output_type": "execute_result"
    }
   ],
   "source": [
    "## 与前例效果一致，先外层迭代，后内层迭代\n",
    "h=[]\n",
    "for j in l:\n",
    "    for i in j:\n",
    "        h.append(i)\n",
    "h"
   ]
  },
  {
   "cell_type": "code",
   "execution_count": 15,
   "metadata": {},
   "outputs": [
    {
     "data": {
      "text/plain": [
       "(1,\n",
       " ['nss derived most of its revenue from the operation of restaurants at railway stations ; in 1939 , this amounted to 80 %',\n",
       "  'initially , the company operated the restaurant at oslo ø ; from 1921 , it also took over operation of the restaurants at oslo west station , hamar , <unk> , <unk> and <unk>',\n",
       "  'the following year , four more restaurants were added : <unk> , <unk> , <unk> and hell',\n",
       "  'nss also established its first kiosk , at bergen station',\n",
       "  'in 1923 , the company was allowed to take over all restaurants in the railway districts of oslo and hamar ; by 1925 , it had taken over operation of the restaurants at lillehammer , <unk> , <unk> , <unk> , <unk> , <unk> , <unk> , <unk> , <unk> , <unk> , <unk> , trondheim , <unk> , <unk> , <unk> , <unk> and <unk> .'],\n",
       " ['nss derived most of its revenue from the operation of restaurants at railway stations ; in 1939 , this amounted to 80 %'])"
      ]
     },
     "execution_count": 15,
     "metadata": {},
     "output_type": "execute_result"
    }
   ],
   "source": [
    "import numpy as np\n",
    "l1=np.array(l)\n",
    "np.where(l1==1)\n",
    "len(ps[30][0].split('.')),ps[30],ps[30][0].split('.')"
   ]
  },
  {
   "cell_type": "code",
   "execution_count": 16,
   "metadata": {},
   "outputs": [
    {
     "data": {
      "text/plain": [
       "2"
      ]
     },
     "execution_count": 16,
     "metadata": {},
     "output_type": "execute_result"
    }
   ],
   "source": [
    "## 类似‘hello,’这样字符串分割后的长度的确等于2，为何有这种表现？\n",
    "len('hello,'.split(','))"
   ]
  },
  {
   "cell_type": "code",
   "execution_count": 17,
   "metadata": {},
   "outputs": [
    {
     "data": {
      "text/plain": [
       "(2, ['', ''])"
      ]
     },
     "execution_count": 17,
     "metadata": {},
     "output_type": "execute_result"
    }
   ],
   "source": [
    "len(','.split(',')), ','.split(',')## 即便两边为空，分割后的长度也是2，很诡异吧"
   ]
  },
  {
   "cell_type": "markdown",
   "metadata": {},
   "source": [
    "------------"
   ]
  },
  {
   "cell_type": "markdown",
   "metadata": {
    "origin_pos": 5
   },
   "source": [
    "## 14.9.1 为预训练任务定义辅助函数\n",
    "\n",
    "在下文中，我们首先为BERT的两个预训练任务实现辅助函数。这些辅助函数将在稍后将原始文本语料库转换为理想格式的数据集时调用，以预训练BERT。"
   ]
  },
  {
   "cell_type": "markdown",
   "metadata": {
    "origin_pos": 5
   },
   "source": [
    "### 14.9.1.1 生成下一句预测任务的数据\n",
    "根据 14.8.5.2节的描述，`_get_next_sentence`函数生成二分类任务的训练样本。"
   ]
  },
  {
   "cell_type": "code",
   "execution_count": 18,
   "metadata": {
    "origin_pos": 6,
    "tab": [
     "pytorch"
    ]
   },
   "outputs": [],
   "source": [
    "#@save\n",
    "'''\n",
    "传入的数据是真实的句子与下一句以及段落。\n",
    "按照0.5的概率设置is_next为False，随机从语料中抽取一句作为下一句。\n",
    "\n",
    "如果按照0.5的概率，is_next没有设置为False，将is_next设为True，\n",
    "同时将原数据返回，也就是真实的前后句子对。\n",
    "\n",
    "其目的就是按照50%的概率将真实的前后句子对修改成下一句为随机抽取的句子，并将is_next设为False。\n",
    "'''\n",
    "def _get_next_sentence(sentence, next_sentence, paragraphs):\n",
    "    ## is_next有50%的可能性被设置为True\n",
    "    if random.random() < 0.5:\n",
    "        is_next = True\n",
    "    else:\n",
    "        # paragraphs是三重列表的嵌套(段落，句子，词元)\n",
    "        '''\n",
    "        随机挑选一个句子,用于“下一句”预测训练。\n",
    "        里层的random.choice随机挑选段落，外层的random.choice在该段落中随机挑选句子。\n",
    "        '''\n",
    "        next_sentence = random.choice(random.choice(paragraphs))\n",
    "        is_next = False\n",
    "    return sentence, next_sentence, is_next"
   ]
  },
  {
   "cell_type": "markdown",
   "metadata": {},
   "source": [
    "-------------\n",
    "- **说明：随机性测试**"
   ]
  },
  {
   "cell_type": "code",
   "execution_count": 19,
   "metadata": {},
   "outputs": [
    {
     "data": {
      "text/plain": [
       "0.5049"
      ]
     },
     "execution_count": 19,
     "metadata": {},
     "output_type": "execute_result"
    }
   ],
   "source": [
    "import numpy as np\n",
    "r=[]\n",
    "for _ in range(10000):\n",
    "    r.append(random.random())\n",
    "len(np.array(r)[(np.array(r)<0.5)])/10000"
   ]
  },
  {
   "cell_type": "code",
   "execution_count": 20,
   "metadata": {},
   "outputs": [
    {
     "data": {
      "text/plain": [
       "array([[[  0,   1,   2,   3,   4,   5],\n",
       "        [  6,   7,   8,   9,  10,  11],\n",
       "        [ 12,  13,  14,  15,  16,  17],\n",
       "        [ 18,  19,  20,  21,  22,  23],\n",
       "        [ 24,  25,  26,  27,  28,  29]],\n",
       "\n",
       "       [[ 30,  31,  32,  33,  34,  35],\n",
       "        [ 36,  37,  38,  39,  40,  41],\n",
       "        [ 42,  43,  44,  45,  46,  47],\n",
       "        [ 48,  49,  50,  51,  52,  53],\n",
       "        [ 54,  55,  56,  57,  58,  59]],\n",
       "\n",
       "       [[ 60,  61,  62,  63,  64,  65],\n",
       "        [ 66,  67,  68,  69,  70,  71],\n",
       "        [ 72,  73,  74,  75,  76,  77],\n",
       "        [ 78,  79,  80,  81,  82,  83],\n",
       "        [ 84,  85,  86,  87,  88,  89]],\n",
       "\n",
       "       [[ 90,  91,  92,  93,  94,  95],\n",
       "        [ 96,  97,  98,  99, 100, 101],\n",
       "        [102, 103, 104, 105, 106, 107],\n",
       "        [108, 109, 110, 111, 112, 113],\n",
       "        [114, 115, 116, 117, 118, 119]]])"
      ]
     },
     "execution_count": 20,
     "metadata": {},
     "output_type": "execute_result"
    }
   ],
   "source": [
    "## random.choice的用法\n",
    "s=(np.arange(120)).reshape(4,5,6)\n",
    "s"
   ]
  },
  {
   "cell_type": "code",
   "execution_count": 21,
   "metadata": {},
   "outputs": [
    {
     "data": {
      "text/plain": [
       "(array([[ 0,  1,  2,  3,  4,  5],\n",
       "        [ 6,  7,  8,  9, 10, 11],\n",
       "        [12, 13, 14, 15, 16, 17],\n",
       "        [18, 19, 20, 21, 22, 23],\n",
       "        [24, 25, 26, 27, 28, 29]]),\n",
       " array([ 96,  97,  98,  99, 100, 101]),\n",
       " 1)"
      ]
     },
     "execution_count": 21,
     "metadata": {},
     "output_type": "execute_result"
    }
   ],
   "source": [
    "'''\n",
    "choice函数依次在0,1,2轴上随机选择一个元素.\n",
    "下面三个例子依次为：\n",
    "（1）随机选择0轴数据，即选择一个矩阵；\n",
    "（2）在0轴上随机选择一个矩阵之后，在该矩阵上随机选择一行；\n",
    "（3）在0轴上随机选择一个矩阵之后，在1轴上随机选择一行之后，在该行随机选择一个元素。\n",
    "'''\n",
    "random.choice(list(s)), random.choice(random.choice(list(s))), \\\n",
    "random.choice(random.choice(random.choice(list(s))))"
   ]
  },
  {
   "cell_type": "code",
   "execution_count": 22,
   "metadata": {},
   "outputs": [],
   "source": [
    "### paragraphs测试\n",
    "file_name = r'e:\\deepdata\\parag.txt'\n",
    "paragraphs=[]\n",
    "with open(file_name, 'r', encoding='utf-8') as f:\n",
    "    lines = f.readlines()\n",
    "    # 大写字母转换为小写字母\n",
    "    ## 使用句号.来拆分句子\n",
    "    paragraphs = [line.strip().lower().split(' . ')\n",
    "                  for line in lines if len(line)>0 and line!= '']\n",
    "    random.shuffle(paragraphs)\n",
    "    ## 返回的是打乱顺序的句子list，应该是主要用于MLM的训练"
   ]
  },
  {
   "cell_type": "code",
   "execution_count": 23,
   "metadata": {},
   "outputs": [
    {
     "data": {
      "text/plain": [
       "''"
      ]
     },
     "execution_count": 23,
     "metadata": {},
     "output_type": "execute_result"
    }
   ],
   "source": [
    "## 这个的确是获取句子\n",
    "random.choice(random.choice(paragraphs))"
   ]
  },
  {
   "cell_type": "code",
   "execution_count": 24,
   "metadata": {},
   "outputs": [
    {
     "data": {
      "text/plain": [
       "['odd andersen/afp via getty images']"
      ]
     },
     "execution_count": 24,
     "metadata": {},
     "output_type": "execute_result"
    }
   ],
   "source": [
    "## 这个也是获取一个句子，但是返回数据是list类型\n",
    "random.choice(paragraphs)"
   ]
  },
  {
   "cell_type": "markdown",
   "metadata": {},
   "source": [
    "-------------"
   ]
  },
  {
   "cell_type": "markdown",
   "metadata": {
    "origin_pos": 7
   },
   "source": [
    "- 下面的函数通过调用`_get_next_sentence`函数从输入`paragraph`生成用于下一句预测的训练样本。\n",
    "  - **这里`paragraph`是句子列表，其中每个句子都是词元列表。** \n",
    "- 自变量`max_len`指定预训练期间的BERT输入序列的最大长度。\n"
   ]
  },
  {
   "cell_type": "code",
   "execution_count": 25,
   "metadata": {
    "origin_pos": 8,
    "tab": [
     "pytorch"
    ]
   },
   "outputs": [],
   "source": [
    "#@save\n",
    "'''\n",
    "下一句预测函数_get_nsp_data_from_paragraph的3个返回值组成元组，\n",
    "然后再将多个元组保存在list：\n",
    "tokens: ['<cls>','abc','def','<sep>','hij','klm','<sep>']构成；\n",
    "segments: [0,0,0,0,1,1,1]\n",
    "is_next: True或者False\n",
    "\n",
    "3个元素组成元组，然后多个元组存放在list里。\n",
    "[(t,s,i),(t,s,i),...]\n",
    "'''\n",
    "def _get_nsp_data_from_paragraph(paragraph, paragraphs, vocab, max_len):\n",
    "    nsp_data_from_paragraph = []\n",
    "    ## 将段落依次迭代到最后一句之前，不包括最后一句\n",
    "    ## 因为最后一句没有下一句了，无法预测\n",
    "    for i in range(len(paragraph) - 1):\n",
    "        ## 生成句子与下一句对，注意有50%句子对的下一句不是真实的下一句\n",
    "        tokens_a, tokens_b, is_next = _get_next_sentence(\n",
    "            paragraph[i], paragraph[i + 1], paragraphs)\n",
    "        # 考虑1个'<cls>'词元和2个'<sep>'词元\n",
    "        '''\n",
    "        限定句子对的长度不超过max_len，如超过则忽略。\n",
    "        如果max_len设置过小，将忽略很多句子。\n",
    "        '''\n",
    "        if len(tokens_a) + len(tokens_b) + 3 > max_len:\n",
    "            continue\n",
    "        '''\n",
    "        将句子转换成词元列表和片段。\n",
    "        注意tokens由['<cls>','abc','def','<sep>','hij','klm','<sep>']构成；\n",
    "        而segments则是[0,0,0,0,1,1,1]这种形式构成。0表示第一个句子，1表示下一句。\n",
    "        '''       \n",
    "        tokens, segments = d2l.get_tokens_and_segments(tokens_a, tokens_b)\n",
    "        \n",
    "        ## 返回词元列表和片段以及是否为真实下一句，放在一个元组里，再保存在list里\n",
    "        nsp_data_from_paragraph.append((tokens, segments, is_next))\n",
    "    return nsp_data_from_paragraph"
   ]
  },
  {
   "cell_type": "markdown",
   "metadata": {
    "origin_pos": 9
   },
   "source": [
    "### 14.9.1.2 生成遮蔽语言模型任务的数据\n",
    "\n",
    "- 为了从BERT输入序列生成遮蔽语言模型的训练样本，我们定义了以下`_replace_mlm_tokens`函数。\n",
    "  - 在其输入中，`tokens`是表示BERT输入序列的词元的列表，\n",
    "  - `candidate_pred_positions`是不包括特殊词元的BERT输入序列的词元索引的列表（特殊词元在遮蔽语言模型任务中不被预测），\n",
    "  - 以及`num_mlm_preds`指示预测的数量（选择15%要预测的随机词元）。\n",
    "- 在 14.8.5.1节中定义遮蔽语言模型任务之后，在每个预测位置，输入可以由特殊的“掩码”词元或随机词元替换，或者保持不变。\n",
    "- 最后，该函数返回可能替换后的输入词元、发生预测的词元索引和这些预测的标签。\n"
   ]
  },
  {
   "cell_type": "code",
   "execution_count": 26,
   "metadata": {
    "origin_pos": 10,
    "tab": [
     "pytorch"
    ]
   },
   "outputs": [],
   "source": [
    "#@save\n",
    "'''\n",
    "用于MLM而不是下一句预测。\n",
    "tokens是前面获取的带有<cls><sep>的输入序列表示。\n",
    "\n",
    "andidate_pred_positions则是不包含<cls><sep>特殊词元的索引列表，\n",
    "即除了特殊词元外的有效词元在tokens序列中的索引。\n",
    "'''\n",
    "def _replace_mlm_tokens(tokens, candidate_pred_positions, num_mlm_preds,\n",
    "                        vocab):\n",
    "    # 为遮蔽语言模型的输入创建新的词元副本，其中输入可能包含替换的“<mask>”或随机词元\n",
    "    mlm_input_tokens = [token for token in tokens]\n",
    "    \n",
    "    ## 保存被掩码（预测）的词元索引及其标签（即原词元）\n",
    "    pred_positions_and_labels = []\n",
    "    \n",
    "    # 打乱后用于在遮蔽语言模型任务中获取15%的随机词元进行预测\n",
    "    ## 用于随机获取被掩码的词元\n",
    "    random.shuffle(candidate_pred_positions)\n",
    "    ## 然后随机挑选一个词元(在tokens序列中的索引)进行操作：屏蔽、保持不变或词表中的随机词元代替\n",
    "    ## 随机挑选是通过上一行的shuffle函数实现的\n",
    "    ## mlm_pred_position是被挑选的需要被掩码的词元在原词元列表中的索引\n",
    "    for mlm_pred_position in candidate_pred_positions:\n",
    "        ## 用于控制掩码词元的个数，通过标签来控制，\n",
    "        ## 等于设定的个数(即num_mlm_preds)时退出迭代\n",
    "        if len(pred_positions_and_labels) >= num_mlm_preds:\n",
    "            break\n",
    "        masked_token = None\n",
    "        # 80%概率将预测词元替换为“<mask>”\n",
    "        if random.random() < 0.8:\n",
    "            masked_token = '<mask>'\n",
    "        else:\n",
    "            # 10%的概率保持词不变\n",
    "            if random.random() < 0.5:\n",
    "                '''\n",
    "                candidate_pred_positions就是用来保存词元在原tokens序列中的位置索引，\n",
    "                只不过在前面进行shuffle，然后由mlm_pred_position迭代。\n",
    "                获取原词元保存到masked_token里，达到保持不变的效果。\n",
    "                总体概率是:10%=（1-80%）*50%。\n",
    "                '''\n",
    "                masked_token = tokens[mlm_pred_position]            \n",
    "            else:\n",
    "                # 10%的时间：用随机词替换该词\n",
    "                ## 随机词取自词表，通过random.choice获取\n",
    "                masked_token = random.choice(vocab.idx_to_token)\n",
    "                \n",
    "        ## 设置被掩码词元的值：80%是<masked>，10%是原词元，10%是词表中的随机词元\n",
    "        mlm_input_tokens[mlm_pred_position] = masked_token\n",
    "        \n",
    "        ## 被掩码的词元在原词元序列中的索引位置和原词元，二者保存在一个元组中\n",
    "        pred_positions_and_labels.append(\n",
    "            (mlm_pred_position, tokens[mlm_pred_position]))\n",
    "    '''\n",
    "    进行了掩码操作后的词元序列和标签（保存索引位置与原词元）\n",
    "    '''\n",
    "    return mlm_input_tokens, pred_positions_and_labels"
   ]
  },
  {
   "cell_type": "code",
   "execution_count": 27,
   "metadata": {},
   "outputs": [
    {
     "data": {
      "text/plain": [
       "[2, 3, 4, 1, 6, 5]"
      ]
     },
     "execution_count": 27,
     "metadata": {},
     "output_type": "execute_result"
    }
   ],
   "source": [
    "## inplace打乱顺序\n",
    "sf=[1,2,3,4,5,6]\n",
    "random.shuffle(sf)\n",
    "sf"
   ]
  },
  {
   "cell_type": "markdown",
   "metadata": {
    "origin_pos": 11
   },
   "source": [
    "通过调用前述的`_replace_mlm_tokens`函数，以下函数将BERT输入序列（`tokens`）作为输入，并返回输入词元的索引（在 14.8.5.1节中描述的可能的词元替换之后）、发生预测的词元索引以及这些预测的标签索引。\n"
   ]
  },
  {
   "cell_type": "code",
   "execution_count": 28,
   "metadata": {
    "origin_pos": 12,
    "tab": [
     "pytorch"
    ]
   },
   "outputs": [],
   "source": [
    "#@save\n",
    "'''\n",
    "使用_replace_mlm_tokens来生成MLM序列以及预测标签（被掩码词元在词表中的索引）。\n",
    "'''\n",
    "def _get_mlm_data_from_tokens(tokens, vocab):\n",
    "    candidate_pred_positions = []\n",
    "    # tokens是一个字符串列表\n",
    "    for i, token in enumerate(tokens):\n",
    "        # 在遮蔽语言模型任务中不会预测特殊词元\n",
    "        ## 略过特殊词元。\n",
    "        if token in ['<cls>', '<sep>']:\n",
    "            continue\n",
    "        ''' \n",
    "        tokens中的非特殊词元都放在candidate_pred_positions里，\n",
    "        作为候选的预测词元。也就是说tokens中除了特殊词元以外的其他词元,\n",
    "        都有可能作为预测词元被掩码（当然这里的掩码有3种操作选择）。\n",
    "        \n",
    "        candidate_pred_positions保存的是词元在序列中的索引位置。\n",
    "        '''\n",
    "        candidate_pred_positions.append(i)\n",
    "        \n",
    "    # 遮蔽语言模型任务中预测15%的随机词元\n",
    "    '''\n",
    "    在这儿设置概率，15%的词元设为掩码预测词元\n",
    "    num_mlm_preds是一个整数，>=1,<=序列长度*0.15(取整)。\n",
    "    '''\n",
    "    num_mlm_preds = max(1, round(len(tokens) * 0.15))\n",
    "    \n",
    "    '''\n",
    "    调用前面定义的函数生成掩码（预测）词元，以及预测词元标签。\n",
    "    tokens是词元列表，包含特殊词元；\n",
    "    candidate_pred_positions：非特殊词元的在原序列中的索引列表；\n",
    "    num_mlm_preds：15%被掩码（预测）的词元个数。\n",
    "    '''\n",
    "    mlm_input_tokens, pred_positions_and_labels = _replace_mlm_tokens(\n",
    "        tokens, candidate_pred_positions, num_mlm_preds, vocab)\n",
    "    \n",
    "    ## 按照词元索引排序\n",
    "    pred_positions_and_labels = sorted(pred_positions_and_labels,\n",
    "                                       key=lambda x: x[0])\n",
    "    \n",
    "    ## pred_positions是索引位置，mlm_pred_labels是标签（原词元）\n",
    "    pred_positions = [v[0] for v in pred_positions_and_labels]\n",
    "    mlm_pred_labels = [v[1] for v in pred_positions_and_labels]\n",
    "    \n",
    "    ## 前面都是按照词元字符串进行操作，最后本函数返回之前转换成词表索引\n",
    "    ## 返回掩码输入词元序列词表索引，掩码（预测）词元在原序列中的索引位置，\n",
    "    ## 预测标签（原词元）的词表索引\n",
    "    return vocab[mlm_input_tokens], pred_positions, vocab[mlm_pred_labels]"
   ]
  },
  {
   "cell_type": "markdown",
   "metadata": {
    "origin_pos": 13
   },
   "source": [
    "## 14.9.2 将文本转换为预训练数据集\n",
    "\n",
    "- 现在我们几乎准备好为BERT预训练定制一个`Dataset`类。\n",
    "- 此之前，我们仍然需要定义辅助函数`_pad_bert_inputs`来将特殊的“&lt;mask&gt;”词元附加到输入。\n",
    "- 它的参数`examples`包含来自两个预训练任务的辅助函数`_get_nsp_data_from_paragraph`和`_get_mlm_data_from_tokens`的输出。\n"
   ]
  },
  {
   "cell_type": "code",
   "execution_count": 29,
   "metadata": {
    "origin_pos": 15,
    "tab": [
     "pytorch"
    ]
   },
   "outputs": [],
   "source": [
    "#@save\n",
    "'''\n",
    "\n",
    "'''\n",
    "def _pad_bert_inputs(examples, max_len, vocab):\n",
    "    ## 最大掩码长度，填充后序列的15%，并非真实序列的有效长度\n",
    "    max_num_mlm_preds = round(max_len * 0.15)\n",
    "    \n",
    "    '''\n",
    "    all_token_ids:所有词元（也就是一个序列的词元加上特殊词元，再加上填充）的ID（词表id）,\n",
    "    all_segments:所有片段(有0,1构成)，\n",
    "    valid_lens:有效长度，不包含填充的序列长度（词元个数）。\n",
    "    '''\n",
    "    all_token_ids, all_segments, valid_lens,  = [], [], []\n",
    "    ## “all:所有”的意思就是某个序列的词元、特殊词元、填充三个一起。\n",
    "    ##所有预测位置，所有MLM权重，所有MLM标签\n",
    "    all_pred_positions, all_mlm_weights, all_mlm_labels = [], [], []\n",
    "    ## 下一句预测标签\n",
    "    nsp_labels = []\n",
    "    ## 要看看examples的结构\n",
    "    for (token_ids, pred_positions, mlm_pred_label_ids, segments,\n",
    "         is_next) in examples:\n",
    "        \n",
    "        ## 填充到最大长度，不够的地方使用<pad>填充。最后序列的长度都是一样的\n",
    "        ## 即max_len。注意是使用<pad>的词表索引(id)填充的\n",
    "        all_token_ids.append(torch.tensor(token_ids + [vocab['<pad>']] * (\n",
    "            max_len - len(token_ids)), dtype=torch.long))\n",
    "        \n",
    "        ## 片段是填充‘0’，[0,0,0,...,1,1,...,0,0,0,...]，\n",
    "        ## 最后一个1后面的0是填充的\n",
    "        all_segments.append(torch.tensor(segments + [0] * (\n",
    "            max_len - len(segments)), dtype=torch.long))\n",
    "        \n",
    "        # valid_lens不包括'<pad>'的计数\n",
    "        valid_lens.append(torch.tensor(len(token_ids), dtype=torch.float32))\n",
    "        \n",
    "        ## 预测词元索引位置也是填充0\n",
    "        all_pred_positions.append(torch.tensor(pred_positions + [0] * (\n",
    "            max_num_mlm_preds - len(pred_positions)), dtype=torch.long))\n",
    "        \n",
    "        # 填充词元的预测将通过乘以0权重在损失中过滤掉\n",
    "        ##  + [0.0] 后面是填充词元<pad>的初始权重0，这样相乘就会忽略它们的权重计算\n",
    "        all_mlm_weights.append(\n",
    "            torch.tensor([1.0] * len(mlm_pred_label_ids) + [0.0] * (\n",
    "                max_num_mlm_preds - len(pred_positions)),\n",
    "                dtype=torch.float32))\n",
    "        ## <pad>的标签也设为0\n",
    "        all_mlm_labels.append(torch.tensor(mlm_pred_label_ids + [0] * (\n",
    "            max_num_mlm_preds - len(mlm_pred_label_ids)), dtype=torch.long))\n",
    "        \n",
    "        ## nsp_labels保存是否为下一句，将True,False转换为0,1表示\n",
    "        nsp_labels.append(torch.tensor(is_next, dtype=torch.long))\n",
    "        \n",
    "    ## 函数的功能就是各种个填充，直到填满到max_len长度\n",
    "    return (all_token_ids, all_segments, valid_lens, all_pred_positions,\n",
    "            all_mlm_weights, all_mlm_labels, nsp_labels)"
   ]
  },
  {
   "cell_type": "markdown",
   "metadata": {
    "origin_pos": 16
   },
   "source": [
    "- 将用于生成**两个预训练任务的训练样本的辅助函数和用于填充输入的辅助函数放在一起**，我们定义以下`_WikiTextDataset`类为用于预训练BERT的WikiText-2数据集。\n",
    "- 通过实现`__getitem__ `函数，我们可以任意访问WikiText-2语料库的一对句子生成的预训练样本（遮蔽语言模型和下一句预测）样本。\n",
    "- 最初的BERT模型使用词表大小为30000的WordPiece嵌入。\n",
    "  - WordPiece的词元化方法是对 14.6.2节中原有的字节对编码算法稍作修改。\n",
    "- 为简单起见，我们使用d2l.tokenize函数进行词元化。\n",
    "  - 出现次数少于5次的不频繁词元将被过滤掉。\n"
   ]
  },
  {
   "cell_type": "code",
   "execution_count": 30,
   "metadata": {
    "origin_pos": 18,
    "tab": [
     "pytorch"
    ]
   },
   "outputs": [],
   "source": [
    "#@save\n",
    "class _WikiTextDataset(torch.utils.data.Dataset):\n",
    "    def __init__(self, paragraphs, max_len):\n",
    "        # 输入paragraphs[i]是代表段落的句子字符串列表；\n",
    "        # 而输出paragraphs[i]是代表段落的句子列表，其中每个句子都是词元列表\n",
    "        \n",
    "        '''\n",
    "        句子已经词元化了。\n",
    "        应该是如此形式：[[['aa','bb','cc','dd'],['ee','ff','gg','hh'], ...]]。\n",
    "        不再是一个完成句子形式。\n",
    "        '''\n",
    "        paragraphs = [d2l.tokenize(\n",
    "            paragraph, token='word') for paragraph in paragraphs]\n",
    "        \n",
    "        ## 将所有句子全部迭代取出保存在一个list里，结果是一个一维数组\n",
    "        sentences = [sentence for paragraph in paragraphs\n",
    "                     for sentence in paragraph]\n",
    "        self.vocab = d2l.Vocab(sentences, min_freq=5, reserved_tokens=[\n",
    "            '<pad>', '<mask>', '<cls>', '<sep>'])\n",
    "        # 获取下一句子预测任务的数据\n",
    "        examples = []\n",
    "        for paragraph in paragraphs:\n",
    "            ## 注意区分list的extend与append函数的区别\n",
    "            examples.extend(_get_nsp_data_from_paragraph(\n",
    "                paragraph, paragraphs, self.vocab, max_len))\n",
    "        # 获取遮蔽语言模型任务的数据\n",
    "        ## 很明显此处是使用有效长度(真实长度)来计算掩码（预测）词元的个数。\n",
    "        examples = [(_get_mlm_data_from_tokens(tokens, self.vocab)\n",
    "                      + (segments, is_next))\n",
    "                     for tokens, segments, is_next in examples]\n",
    "        \n",
    "        # 填充输入，填充到固定长度max_len，以便于计算和处理\n",
    "        (self.all_token_ids, self.all_segments, self.valid_lens,\n",
    "         self.all_pred_positions, self.all_mlm_weights,\n",
    "         self.all_mlm_labels, self.nsp_labels) = _pad_bert_inputs(\n",
    "            examples, max_len, self.vocab)\n",
    "\n",
    "    def __getitem__(self, idx):\n",
    "        return (self.all_token_ids[idx], self.all_segments[idx],\n",
    "                self.valid_lens[idx], self.all_pred_positions[idx],\n",
    "                self.all_mlm_weights[idx], self.all_mlm_labels[idx],\n",
    "                self.nsp_labels[idx])\n",
    "\n",
    "    def __len__(self):\n",
    "        return len(self.all_token_ids)"
   ]
  },
  {
   "cell_type": "markdown",
   "metadata": {},
   "source": [
    "-------------\n",
    "- **说明：_WikiTextDataset类解析**\n"
   ]
  },
  {
   "cell_type": "code",
   "execution_count": 34,
   "metadata": {},
   "outputs": [],
   "source": [
    "'''\n",
    "对语料词元化，运行速度有点慢,内容太长不完全显示.\n",
    "结果是三维数组。段落-句子-词元\n",
    "'''\n",
    "path = r'..\\data\\wikitext-2'\n",
    "ps = _read_wiki(path)\n",
    "paragraphs = [d2l.tokenize(\n",
    "            paragraph, token='word') for paragraph in ps]\n",
    "#paragraphs"
   ]
  },
  {
   "attachments": {
    "3d1b87d9-5f9b-4f10-9dac-bab4a0089689.png": {
     "image/png": "[encoded data removed]"
    }
   },
   "cell_type": "markdown",
   "metadata": {},
   "source": [
    "#### 运行结果\n",
    "![image.png](attachment:3d1b87d9-5f9b-4f10-9dac-bab4a0089689.png)"
   ]
  },
  {
   "cell_type": "code",
   "execution_count": 27,
   "metadata": {},
   "outputs": [
    {
     "data": {
      "text/plain": [
       "(15496, 5, 20)"
      ]
     },
     "execution_count": 27,
     "metadata": {},
     "output_type": "execute_result"
    }
   ],
   "source": [
    "## 段落个数，第一个段落的句子个数，第一个句子的词元个数\n",
    "len(paragraphs),len(paragraphs[0]),len(paragraphs[0][0])"
   ]
  },
  {
   "cell_type": "code",
   "execution_count": 28,
   "metadata": {},
   "outputs": [
    {
     "data": {
      "text/plain": [
       "74631"
      ]
     },
     "execution_count": 28,
     "metadata": {},
     "output_type": "execute_result"
    }
   ],
   "source": [
    "'''\n",
    "sentences是一个二维数组。\n",
    "保存了74631个句子，每个句子是由词元list构成。\n",
    "迭代了两层。\n",
    "'''\n",
    "sentences = [sentence for paragraph in paragraphs\n",
    "                     for sentence in paragraph]\n",
    "##句子个数\n",
    "len(sentences)#,sentences"
   ]
  },
  {
   "attachments": {
    "047da5b4-3bc5-49e4-93f9-33a2df90fe06.png": {
     "image/png": "[encoded data removed]"
    }
   },
   "cell_type": "markdown",
   "metadata": {},
   "source": [
    "![image.png](attachment:047da5b4-3bc5-49e4-93f9-33a2df90fe06.png)"
   ]
  },
  {
   "cell_type": "code",
   "execution_count": 29,
   "metadata": {},
   "outputs": [
    {
     "name": "stdout",
     "output_type": "stream",
     "text": [
      "[1, 2, 3, 'a', 'b', 'c']\n",
      "[1, 2, 3, 'a', 'b', 'c', ('a', 'b', 'c')]\n"
     ]
    }
   ],
   "source": [
    "## list的append与extend函数的区别院系\n",
    "l = [1,2,3]\n",
    "l1 = ('a','b','c')\n",
    "##元素添加到list\n",
    "l.extend(l1)\n",
    "print(l)\n",
    "## 整体对象添加到list\n",
    "l.append(l1)\n",
    "print(l)"
   ]
  },
  {
   "cell_type": "code",
   "execution_count": 35,
   "metadata": {},
   "outputs": [],
   "source": [
    "## wtd的个数取决于max_len的大小，越大，wtd越多\n",
    "## 在_get_nsp_data_from_paragraph函数中通过max_len限定句子对的长度了\n",
    "## 如果超过长度将被忽略，因此会影响进入到数据集中的句子个数。\n",
    "wtd=_WikiTextDataset(_read_wiki(path),64)"
   ]
  },
  {
   "cell_type": "code",
   "execution_count": 36,
   "metadata": {},
   "outputs": [
    {
     "data": {
      "text/plain": [
       "([tensor([   3,  157,  116,    6,   15,    2,    2,    7,   29, 1412,    8,  287,\n",
       "             6,   30,   52,   53, 3798, 2023,    4,   11, 2073,    2,  115,  445,\n",
       "           750,  150, 5001,  180,    7,    2, 2136,   31,    2,    6,  849, 4936,\n",
       "             4,    1,    1,    1,    1,    1,    1,    1,    1,    1,    1,    1,\n",
       "             1,    1,    1,    1,    1,    1,    1,    1,    1,    1,    1,    1,\n",
       "             1,    1,    1,    1]),\n",
       "  tensor([    3,    47,    11,  2421,     2,     9,  2098,     6,  4761,    92,\n",
       "             29,    40,  3626,     9,     0,     2,    79,  2531,  3014,    24,\n",
       "              2,     2,     5,     0,     9,   189,    23,   205,  8955,  1020,\n",
       "              4,     9, 17976,     6,    61,     5,     2,     2,     6,    30,\n",
       "             13,    42,     7,     5, 12810,     2,  6019,    28,     2,  2061,\n",
       "              7,  4321, 12013,     6,     8,  3136,    20,    48,     0,    27,\n",
       "              5,  1510,     4,     1]),\n",
       "  tensor([    3,     9, 17976,     6,    61,     5,     2,     2,     6,    30,\n",
       "             13,     2,     7,     5, 12810, 15907,  6019,    28,     5,  2061,\n",
       "              7,  4321, 12013,     6,     8,  3136,    20,    48,     2,    27,\n",
       "              5,  1510,     4,     9, 12811,     2,     2,  1791,   351,     9,\n",
       "          12014,     6,   265,    17,     7,   175,     0,     4,     1,     1,\n",
       "              1,     1,     1,     1,     1,     1,     1,     1,     1,     1,\n",
       "              1,     1,     1,     1])],\n",
       " [tensor([0, 0, 0, 0, 0, 0, 0, 0, 0, 0, 0, 0, 0, 0, 0, 0, 0, 0, 0, 1, 1, 1, 1, 1,\n",
       "          1, 1, 1, 1, 1, 1, 1, 1, 1, 1, 1, 1, 1, 0, 0, 0, 0, 0, 0, 0, 0, 0, 0, 0,\n",
       "          0, 0, 0, 0, 0, 0, 0, 0, 0, 0, 0, 0, 0, 0, 0, 0]),\n",
       "  tensor([0, 0, 0, 0, 0, 0, 0, 0, 0, 0, 0, 0, 0, 0, 0, 0, 0, 0, 0, 0, 0, 0, 0, 0,\n",
       "          0, 0, 0, 0, 0, 0, 0, 1, 1, 1, 1, 1, 1, 1, 1, 1, 1, 1, 1, 1, 1, 1, 1, 1,\n",
       "          1, 1, 1, 1, 1, 1, 1, 1, 1, 1, 1, 1, 1, 1, 1, 0]),\n",
       "  tensor([0, 0, 0, 0, 0, 0, 0, 0, 0, 0, 0, 0, 0, 0, 0, 0, 0, 0, 0, 0, 0, 0, 0, 0,\n",
       "          0, 0, 0, 0, 0, 0, 0, 0, 0, 1, 1, 1, 1, 1, 1, 1, 1, 1, 1, 1, 1, 1, 1, 1,\n",
       "          0, 0, 0, 0, 0, 0, 0, 0, 0, 0, 0, 0, 0, 0, 0, 0])],\n",
       " [tensor(37.), tensor(63.), tensor(48.)],\n",
       " [tensor([ 5,  6, 21, 25, 29, 32,  0,  0,  0,  0]),\n",
       "  tensor([ 4, 15, 20, 21, 36, 37, 45, 48, 53,  0]),\n",
       "  tensor([ 6,  7, 11, 15, 28, 35, 36,  0,  0,  0])],\n",
       " [tensor([1., 1., 1., 1., 1., 1., 0., 0., 0., 0.]),\n",
       "  tensor([1., 1., 1., 1., 1., 1., 1., 1., 1., 0.]),\n",
       "  tensor([1., 1., 1., 1., 1., 1., 1., 0., 0., 0.])],\n",
       " [tensor([   5, 2142,    7,  150, 2704,    0,    0,    0,    0,    0]),\n",
       "  tensor([1198,   25,    6,  265,    0, 2856,   17,    5,    6,    0]),\n",
       "  tensor([   0, 2856,   42,   17,    0,   30,   13,    0,    0,    0])],\n",
       " [tensor(0), tensor(1), tensor(1)])"
      ]
     },
     "execution_count": 36,
     "metadata": {},
     "output_type": "execute_result"
    }
   ],
   "source": [
    "'''\n",
    "_WikiTextDataset生成的数据依次为：\n",
    "（1）all_token_ids：句子词元的词表索引，句子长度小于max_len的，则以<pad>的词表索引填充至max_len长度，即填充<pad>词元的索引1；\n",
    "（2）all_segments：前面的多个0为句子（词元标签），中间多个1为下一句，最后用0填充至max_len\n",
    "（3）valid_lens：句子对的有效长度，本例为53\n",
    "（4）all_pred_positions：被预测或掩码的词元在all_token_ids中的索引，本例有8个掩码词元。\n",
    "    掩码词元的个数，使用有效长度乘以0.15然后四舍五入。本例为53*0.15=0.75=8。后面还要填充至\n",
    "    max_num_mlm_preds长度，该长度等于max_len*0.15后四舍五入，本例为10。因此后面填充了2个0\n",
    "（5）all_mlm_weights: 有效掩码词元为8个，因此其初始权重为1；后面是填充的,因此其初始权重为0.0，不参与权重计算。\n",
    "（6）all_mlm_labels：掩码词元在真实词元序列中的索引，后面也是填充0至max_num_mlm_preds长度。\n",
    "（7）nsp_labels：是否为真实的下一句。1：真实；0：否。本例为真实下一句\n",
    "'''\n",
    "wtd[0:3]"
   ]
  },
  {
   "cell_type": "code",
   "execution_count": 37,
   "metadata": {},
   "outputs": [
    {
     "data": {
      "text/plain": [
       "(10, 8)"
      ]
     },
     "execution_count": 37,
     "metadata": {},
     "output_type": "execute_result"
    }
   ],
   "source": [
    "## 最大掩码长度，有效掩码长度\n",
    "round(64*0.15), round(53*0.15)"
   ]
  },
  {
   "cell_type": "code",
   "execution_count": 38,
   "metadata": {},
   "outputs": [
    {
     "data": {
      "text/plain": [
       "43613"
      ]
     },
     "execution_count": 38,
     "metadata": {},
     "output_type": "execute_result"
    }
   ],
   "source": [
    "## 当max_len为64时，句子对的数量明显减少\n",
    "len(wtd)"
   ]
  },
  {
   "cell_type": "markdown",
   "metadata": {},
   "source": [
    "-------"
   ]
  },
  {
   "cell_type": "markdown",
   "metadata": {
    "origin_pos": 19
   },
   "source": [
    "- 通过使用`_read_wiki`函数和`_WikiTextDataset`类，我们定义了下面的`load_data_wiki`来下载并生成WikiText-2数据集，并从中生成预训练样本。\n"
   ]
  },
  {
   "cell_type": "code",
   "execution_count": 39,
   "metadata": {
    "origin_pos": 21,
    "tab": [
     "pytorch"
    ]
   },
   "outputs": [],
   "source": [
    "#@save\n",
    "## num_workers设为0，才跑得快\n",
    "def load_data_wiki(batch_size, max_len):\n",
    "    \"\"\"加载WikiText-2数据集\"\"\"\n",
    "    num_workers = 0 # d2l.get_dataloader_workers()\n",
    "    data_dir = d2l.download_extract('wikitext-2', 'wikitext-2')\n",
    "    paragraphs = _read_wiki(data_dir)\n",
    "    train_set = _WikiTextDataset(paragraphs, max_len)\n",
    "    '''\n",
    "    DataLoader是一个迭代器。本例中共有86个批量。每个批量512个数据，\n",
    "    但是最后一个批量一般小于512。\n",
    "    数据的组织有区别，每个批量有7个元素，每个元素再按照批量大小512组织。\n",
    "    比如第一个元素all_token_ids是长度为64的一维张量，一共有43609个，在DataLoader\n",
    "    里会将其分割组合成86个形状为(512,64)的张量（最后一个小批量不一定有512行）。\n",
    "    其他6个元素依次类推，不过形状可能存在差别。\n",
    "    '''\n",
    "    train_iter = torch.utils.data.DataLoader(train_set, batch_size,\n",
    "                                        shuffle=True, num_workers=num_workers)\n",
    "    return train_iter, train_set.vocab"
   ]
  },
  {
   "cell_type": "markdown",
   "metadata": {
    "origin_pos": 22
   },
   "source": [
    "- 将批量大小设置为512，将BERT输入序列的最大长度设置为64，我们打印出小批量的BERT预训练样本的形状。\n",
    "- 注意，在每个BERT输入序列中，为遮蔽语言模型任务预测$10$（$64 \\times 0.15$）个位置。\n"
   ]
  },
  {
   "cell_type": "code",
   "execution_count": 40,
   "metadata": {
    "origin_pos": 23,
    "tab": [
     "pytorch"
    ]
   },
   "outputs": [
    {
     "name": "stdout",
     "output_type": "stream",
     "text": [
      "torch.Size([512, 64]) torch.Size([512, 64]) torch.Size([512]) torch.Size([512, 10]) torch.Size([512, 10]) torch.Size([512, 10]) torch.Size([512])\n"
     ]
    }
   ],
   "source": [
    "'''\n",
    "结果中的形状数据其他都好理解，10是round(64*0.15)计算的结果。\n",
    "生成数据保存的都是句子对，因此在预训练模型时，MLM和NSP的训练对象都是句子对。\n",
    "在训练过程中，对句子对做了不同处理。\n",
    "'''\n",
    "batch_size, max_len = 512, 64\n",
    "train_iter, vocab = load_data_wiki(batch_size, max_len)\n",
    "\n",
    "for (tokens_X, segments_X, valid_lens_x, pred_positions_X, mlm_weights_X,\n",
    "     mlm_Y, nsp_y) in train_iter:\n",
    "    print(tokens_X.shape, segments_X.shape, valid_lens_x.shape,\n",
    "          pred_positions_X.shape, mlm_weights_X.shape, mlm_Y.shape,\n",
    "          nsp_y.shape)\n",
    "    break"
   ]
  },
  {
   "cell_type": "code",
   "execution_count": 41,
   "metadata": {},
   "outputs": [
    {
     "data": {
      "text/plain": [
       "86"
      ]
     },
     "execution_count": 41,
     "metadata": {},
     "output_type": "execute_result"
    }
   ],
   "source": [
    "#86个批量\n",
    "len(train_iter)"
   ]
  },
  {
   "cell_type": "code",
   "execution_count": 42,
   "metadata": {},
   "outputs": [
    {
     "data": {
      "text/plain": [
       "(7,\n",
       " [tensor([[    3, 19862,  5118,  ...,     1,     1,     1],\n",
       "          [    3,    42,     7,  ...,     1,     1,     1],\n",
       "          [    3,    86,    36,  ...,     1,     1,     1],\n",
       "          ...,\n",
       "          [    3,    58,   116,  ...,     1,     1,     1],\n",
       "          [    3,   364,    48,  ...,     1,     1,     1],\n",
       "          [    3,    22,  2488,  ...,     1,     1,     1]]),\n",
       "  tensor([[0, 0, 0,  ..., 0, 0, 0],\n",
       "          [0, 0, 0,  ..., 0, 0, 0],\n",
       "          [0, 0, 0,  ..., 0, 0, 0],\n",
       "          ...,\n",
       "          [0, 0, 0,  ..., 0, 0, 0],\n",
       "          [0, 0, 0,  ..., 0, 0, 0],\n",
       "          [0, 0, 0,  ..., 0, 0, 0]]),\n",
       "  tensor([26., 48., 53., 42., 59., 56., 45., 63., 63., 45., 64., 55., 46., 38.,\n",
       "          57., 45., 46., 52., 25., 42., 60., 46., 47., 56., 52., 49., 43., 44.,\n",
       "          54., 52., 42., 55., 47., 55., 22., 40., 44., 41., 49., 33., 57., 56.,\n",
       "          25., 43., 64., 47., 37., 56., 46., 36., 34., 56., 54., 64., 47., 47.,\n",
       "          32., 60., 63., 49., 24., 62., 55., 22., 48., 56., 61., 57., 41., 51.,\n",
       "          43., 30., 31., 26., 44., 61., 57., 37., 56., 50., 56., 28., 41., 38.,\n",
       "          37., 63., 42., 51., 29., 57., 50., 59., 55., 35., 60., 50., 42., 40.,\n",
       "          48., 28., 53., 56., 42., 40., 44., 46., 28., 59., 47., 34., 40., 53.,\n",
       "          58., 44., 59., 37., 35., 62., 58., 56., 39., 51., 56., 64., 23., 39.,\n",
       "          37., 45., 43., 64., 43., 57., 55., 60., 42., 29., 60., 24., 60., 57.,\n",
       "          62., 39., 53., 47., 47., 38., 59., 60., 55., 52., 44., 60., 61., 50.,\n",
       "          60., 39., 62., 42., 52., 30., 48., 40., 48., 59., 56., 38., 55., 54.,\n",
       "          60., 15., 53., 33., 58., 41., 51., 59., 25., 59., 54., 44., 34., 40.,\n",
       "          47., 45., 34., 42., 23., 40., 30., 42., 30., 60., 50., 58., 28., 33.,\n",
       "          51., 38., 61., 39., 57., 37., 64., 41., 33., 30., 28., 40., 49., 40.,\n",
       "          43., 61., 36., 44., 47., 55., 40., 44., 61., 39., 46., 32., 44., 46.,\n",
       "          25., 38., 35., 54., 51., 25., 47., 62., 62., 60., 60., 49., 38., 42.,\n",
       "          56., 59., 31., 44., 50., 55., 46., 47., 46., 48., 53., 54., 51., 33.,\n",
       "          56., 44., 57., 46., 51., 39., 53., 57., 43., 55., 39., 46., 34., 58.,\n",
       "          36., 42., 43., 47., 39., 38., 63., 37., 45., 56., 44., 37., 39., 38.,\n",
       "          26., 47., 34., 53., 37., 39., 37., 58., 56., 53., 27., 59., 58., 42.,\n",
       "          62., 11., 59., 49., 61., 50., 45., 34., 59., 63., 37., 30., 15., 46.,\n",
       "          33., 45., 37., 63., 55., 40., 40., 54., 45., 40., 58., 35., 48., 62.,\n",
       "          43., 59., 51., 54., 43., 60., 43., 37., 41., 53., 31., 64., 51., 31.,\n",
       "          61., 62., 38., 39., 55., 51., 50., 42., 60., 58., 47., 37., 57., 53.,\n",
       "          47., 33., 56., 43., 58., 63., 57., 44., 46., 29., 48., 61., 36., 57.,\n",
       "          61., 59., 43., 44., 40., 37., 42., 35., 53., 57., 51., 49., 56., 33.,\n",
       "          42., 27., 63., 53., 63., 49., 53., 61., 37., 54., 50., 52., 31., 57.,\n",
       "          42., 36., 60., 45., 38., 28., 57., 58., 64., 56., 49., 50., 56., 52.,\n",
       "          57., 45., 64., 29., 57., 42., 63., 42., 62., 49., 54., 33., 41., 42.,\n",
       "          28., 26., 52., 33., 50., 60., 50., 62., 63., 53., 37., 39., 47., 55.,\n",
       "          42., 42., 50., 32., 62., 44., 60., 49., 51., 52., 46., 59., 43., 42.,\n",
       "          34., 28., 58., 54., 37., 47., 49., 56., 43., 38., 42., 46., 54., 36.,\n",
       "          49., 44., 54., 53., 43., 44., 37., 29., 63., 60., 34., 49., 59., 61.,\n",
       "          55., 62., 20., 45., 62., 35., 43., 53., 60., 34.,  9., 51., 61., 52.,\n",
       "          45., 30., 41., 62., 58., 33., 50., 43., 57., 55., 51., 41., 45., 63.,\n",
       "          47., 53., 42., 20., 45., 44., 37., 41.]),\n",
       "  tensor([[ 1,  7, 15,  ...,  0,  0,  0],\n",
       "          [ 3,  7, 18,  ...,  0,  0,  0],\n",
       "          [ 3, 16, 17,  ..., 39,  0,  0],\n",
       "          ...,\n",
       "          [ 3,  9, 13,  ...,  0,  0,  0],\n",
       "          [ 7,  9, 24,  ...,  0,  0,  0],\n",
       "          [13, 14, 17,  ...,  0,  0,  0]]),\n",
       "  tensor([[1., 1., 1.,  ..., 0., 0., 0.],\n",
       "          [1., 1., 1.,  ..., 0., 0., 0.],\n",
       "          [1., 1., 1.,  ..., 1., 0., 0.],\n",
       "          ...,\n",
       "          [1., 1., 1.,  ..., 0., 0., 0.],\n",
       "          [1., 1., 1.,  ..., 0., 0., 0.],\n",
       "          [1., 1., 1.,  ..., 0., 0., 0.]]),\n",
       "  tensor([[   5,  177,    8,  ...,    0,    0,    0],\n",
       "          [   5, 2137, 1856,  ...,    0,    0,    0],\n",
       "          [   0, 7046, 2887,  ..., 3053,    0,    0],\n",
       "          ...,\n",
       "          [ 921, 3455, 3037,  ...,    0,    0,    0],\n",
       "          [   6, 6542, 1386,  ...,    0,    0,    0],\n",
       "          [1075,  477,   15,  ...,    0,    0,    0]]),\n",
       "  tensor([0, 1, 0, 1, 0, 1, 0, 1, 1, 1, 0, 0, 1, 1, 1, 0, 0, 0, 0, 1, 0, 1, 1, 0,\n",
       "          0, 1, 0, 1, 0, 0, 1, 1, 1, 0, 0, 1, 0, 0, 0, 1, 0, 0, 1, 1, 1, 1, 0, 1,\n",
       "          0, 1, 1, 0, 0, 1, 1, 0, 0, 0, 1, 1, 1, 1, 1, 0, 0, 0, 1, 1, 1, 1, 0, 0,\n",
       "          1, 1, 1, 0, 0, 0, 1, 0, 0, 1, 0, 0, 1, 0, 1, 1, 0, 0, 0, 0, 1, 1, 1, 1,\n",
       "          0, 1, 0, 1, 0, 1, 0, 0, 1, 0, 0, 0, 1, 1, 0, 1, 0, 0, 0, 0, 0, 0, 1, 1,\n",
       "          1, 0, 0, 1, 1, 1, 0, 1, 1, 0, 1, 0, 1, 0, 1, 0, 1, 1, 0, 0, 1, 1, 0, 1,\n",
       "          1, 0, 0, 0, 1, 1, 0, 0, 0, 0, 0, 0, 1, 1, 0, 0, 0, 0, 0, 0, 1, 0, 0, 0,\n",
       "          0, 0, 1, 1, 1, 1, 1, 0, 1, 1, 0, 0, 1, 1, 0, 0, 1, 1, 0, 1, 0, 1, 1, 1,\n",
       "          0, 0, 1, 1, 1, 0, 0, 1, 0, 1, 1, 0, 1, 0, 1, 0, 0, 1, 1, 0, 0, 0, 0, 0,\n",
       "          1, 0, 0, 1, 0, 0, 0, 0, 1, 1, 1, 1, 1, 1, 0, 1, 1, 0, 0, 1, 1, 1, 1, 0,\n",
       "          0, 0, 1, 0, 1, 1, 0, 1, 0, 1, 1, 1, 1, 1, 1, 1, 1, 1, 1, 0, 0, 1, 0, 1,\n",
       "          0, 0, 0, 1, 1, 1, 1, 1, 0, 0, 1, 0, 1, 1, 1, 0, 0, 1, 1, 1, 1, 0, 1, 0,\n",
       "          1, 1, 1, 1, 0, 0, 0, 0, 1, 1, 1, 1, 1, 0, 0, 0, 1, 1, 0, 0, 1, 0, 0, 0,\n",
       "          1, 0, 1, 1, 0, 1, 0, 1, 0, 0, 0, 1, 1, 0, 1, 1, 0, 0, 0, 1, 0, 1, 1, 0,\n",
       "          1, 0, 1, 0, 0, 0, 1, 1, 1, 1, 0, 0, 1, 1, 1, 0, 0, 1, 0, 1, 0, 1, 1, 0,\n",
       "          0, 0, 1, 0, 0, 0, 0, 0, 0, 1, 0, 0, 1, 1, 0, 1, 1, 0, 0, 0, 0, 1, 0, 1,\n",
       "          1, 0, 1, 0, 1, 0, 1, 1, 1, 1, 0, 0, 1, 1, 1, 1, 1, 1, 0, 0, 1, 1, 1, 1,\n",
       "          1, 1, 0, 0, 1, 0, 1, 0, 1, 1, 1, 0, 0, 1, 0, 0, 0, 0, 1, 1, 0, 1, 1, 1,\n",
       "          0, 1, 1, 1, 0, 1, 0, 0, 0, 0, 0, 0, 0, 1, 1, 1, 0, 1, 0, 1, 0, 1, 0, 1,\n",
       "          0, 0, 1, 1, 1, 0, 1, 1, 1, 1, 0, 0, 0, 0, 1, 0, 1, 1, 0, 1, 0, 1, 0, 0,\n",
       "          1, 0, 1, 1, 1, 0, 0, 1, 1, 0, 0, 1, 1, 0, 1, 1, 0, 1, 0, 0, 0, 0, 1, 0,\n",
       "          1, 1, 0, 1, 1, 0, 1, 0])])"
      ]
     },
     "execution_count": 42,
     "metadata": {},
     "output_type": "execute_result"
    }
   ],
   "source": [
    "## 每批量有7个张量，各自代表不同数据\n",
    "len(list(iter(train_iter))[0]), list(iter(train_iter))[0]"
   ]
  },
  {
   "cell_type": "markdown",
   "metadata": {
    "origin_pos": 24,
    "tags": []
   },
   "source": [
    "- 最后，我们来看一下词量。\n",
    "  - 即使在过滤掉不频繁的词元之后，它仍然比PTB数据集的大两倍以上。\n"
   ]
  },
  {
   "cell_type": "code",
   "execution_count": 43,
   "metadata": {
    "origin_pos": 25,
    "tab": [
     "pytorch"
    ]
   },
   "outputs": [
    {
     "data": {
      "text/plain": [
       "20256"
      ]
     },
     "execution_count": 43,
     "metadata": {},
     "output_type": "execute_result"
    }
   ],
   "source": [
    "len(vocab)"
   ]
  },
  {
   "cell_type": "code",
   "execution_count": 44,
   "metadata": {},
   "outputs": [
    {
     "data": {
      "text/plain": [
       "'<cls>'"
      ]
     },
     "execution_count": 44,
     "metadata": {},
     "output_type": "execute_result"
    }
   ],
   "source": [
    "vocab.idx_to_token[3]"
   ]
  },
  {
   "cell_type": "code",
   "execution_count": 45,
   "metadata": {},
   "outputs": [
    {
     "data": {
      "text/plain": [
       "4"
      ]
     },
     "execution_count": 45,
     "metadata": {},
     "output_type": "execute_result"
    }
   ],
   "source": [
    "vocab.token_to_idx['<sep>']"
   ]
  },
  {
   "cell_type": "code",
   "execution_count": 46,
   "metadata": {},
   "outputs": [
    {
     "data": {
      "text/plain": [
       "tensor([    3,    15,   651,    84,     6,   163,  1043,     8,  1276,     2,\n",
       "            2,     5,  2768,     2,   237,     2,     0,   862,    31,     2,\n",
       "           67,   747,     7,   422,  4029,     4,    43,   429,  3337,  1374,\n",
       "         5452,     9,  4245,     2, 10245,     6,  5487,     8,  8587,     6,\n",
       "           21,    38,  1029,    46,     9,     2,     4,     1,     1,     1,\n",
       "            1,     1,     1,     1,     1,     1,     1,     1,     1,     1,\n",
       "            1,     1,     1,     1])"
      ]
     },
     "execution_count": 46,
     "metadata": {},
     "output_type": "execute_result"
    }
   ],
   "source": [
    "'''\n",
    "训练集数据中都是句子对，3是<cls>的词表索引，4是<sep>词表索引。\n",
    "'''\n",
    "l=list(iter(train_iter))[0][0][0]\n",
    "l"
   ]
  },
  {
   "cell_type": "code",
   "execution_count": 47,
   "metadata": {},
   "outputs": [
    {
     "data": {
      "text/plain": [
       "array(['<cls>', 'on', '27', 'may', ',', '6', 'officers', 'and', '300',\n",
       "       '<mask>', '<mask>', 'the', 'sarajevo', '<mask>', 'based', '<mask>',\n",
       "       '<unk>', 'regiment', 'were', '<mask>', 'into', 'parts', 'of',\n",
       "       'eastern', 'herzegovina', '<sep>', 'they', 'established',\n",
       "       'platoon', 'strength', 'posts', 'in', 'nevesinje', '<mask>',\n",
       "       'trebinje', ',', 'gacko', 'and', 'bileća', ',', 'with', 'their',\n",
       "       'headquarters', 'also', 'in', '<mask>', '<sep>', '<pad>', '<pad>',\n",
       "       '<pad>', '<pad>', '<pad>', '<pad>', '<pad>', '<pad>', '<pad>',\n",
       "       '<pad>', '<pad>', '<pad>', '<pad>', '<pad>', '<pad>', '<pad>',\n",
       "       '<pad>'], dtype='<U18')"
      ]
     },
     "execution_count": 47,
     "metadata": {},
     "output_type": "execute_result"
    }
   ],
   "source": [
    "## 训练数据的句子对中的索引所对应词元序列\n",
    "np.array(vocab.idx_to_token)[l]"
   ]
  },
  {
   "cell_type": "markdown",
   "metadata": {
    "origin_pos": 26
   },
   "source": [
    "## 小结\n",
    "\n",
    "* 与PTB数据集相比，WikiText-2数据集保留了原来的标点符号、大小写和数字，并且比PTB数据集大了两倍多。\n",
    "* 我们可以任意访问从WikiText-2语料库中的一对句子生成的预训练（遮蔽语言模型和下一句预测）样本。"
   ]
  }
 ],
 "metadata": {
  "kernelspec": {
   "display_name": "Python 3 (ipykernel)",
   "language": "python",
   "name": "python3"
  },
  "language_info": {
   "codemirror_mode": {
    "name": "ipython",
    "version": 3
   },
   "file_extension": ".py",
   "mimetype": "text/x-python",
   "name": "python",
   "nbconvert_exporter": "python",
   "pygments_lexer": "ipython3",
   "version": "3.11.6"
  }
 },
 "nbformat": 4,
 "nbformat_minor": 4
}
