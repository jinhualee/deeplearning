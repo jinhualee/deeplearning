{
 "cells": [
  {
   "cell_type": "markdown",
   "metadata": {
    "origin_pos": 0
   },
   "source": [
    "# 10 注意力机制\n",
    "\n",
    "- **目录**\n",
    "  - 10.1 注意力提示\n",
    "  - 10.2 注意力池化：Nadaraya-Watson 核回归\n",
    "  - 10.3 注意力评分函数\n",
    "  - 10.4 Bahdanau注意力\n",
    "  - 10.5 多头注意力\n",
    "  - 10.6 自注意力和位置编码\n",
    "  - 10.7 Transformer模型\n",
    "<br><br>\n",
    "- **要点：**\n",
    "  - **灵长类动物的视觉系统和注意力**：描述了如何处理大量感官输入并**专注于重要刺激**，如猎物和天敌。\n",
    "  - **注意力在进化中的意义**：关注部分重要信息的能力对人类的生存和成功至关重要。\n",
    "  - **注意力研究历史**：自19世纪以来，科学家们持续研究注意力，并在**认知神经科学**中取得了进展。\n",
    "  - **注意力框架和模型设计**：介绍了经典的注意力框架以及如何设计利用**注意力提示（cues）的模型**。\n",
    "  - **Nadaraya-Waston核回归**：作为具有注意力机制的机器学习简单实例。\n",
    "  - **注意力函数和深度学习模型**：讲解了在深度学习的注意力模型设计中广泛使用的注意力函数。\n",
    "  - **Bahdanau注意力**：介绍了这种突破性的双向对齐且可微分的模型。\n",
    "  - **transformer架构**：基于注意力机制的框架，采用多头注意力和自注意力技术。\n",
    "  - **transformer的影响**：自2017年以来，transformer架构已被广泛应用于语言、视觉、语音和强化学习等深度学习应用域。"
   ]
  }
 ],
 "metadata": {
  "kernelspec": {
   "display_name": "Python 3 (ipykernel)",
   "language": "python",
   "name": "python3"
  },
  "language_info": {
   "codemirror_mode": {
    "name": "ipython",
    "version": 3
   },
   "file_extension": ".py",
   "mimetype": "text/x-python",
   "name": "python",
   "nbconvert_exporter": "python",
   "pygments_lexer": "ipython3",
   "version": "3.11.6"
  }
 },
 "nbformat": 4,
 "nbformat_minor": 4
}
