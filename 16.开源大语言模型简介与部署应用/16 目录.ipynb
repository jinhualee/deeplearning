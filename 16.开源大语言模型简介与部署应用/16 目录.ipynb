{
 "cells": [
  {
   "cell_type": "markdown",
   "id": "2eaad5aa-e9c9-4bf3-a8d4-1835db5ddb80",
   "metadata": {},
   "source": [
    "# 16 开源大语言模型简介与部署应用\n",
    "- **目录**\n",
    "  - 16.1 Hugging Face自然语言处理预训练模型\n",
    "  - 16.2 vLLM与Open WebUI集成部署开源大语言模型\n"
   ]
  }
 ],
 "metadata": {
  "kernelspec": {
   "display_name": "Python 3 (ipykernel)",
   "language": "python",
   "name": "python3"
  },
  "language_info": {
   "codemirror_mode": {
    "name": "ipython",
    "version": 3
   },
   "file_extension": ".py",
   "mimetype": "text/x-python",
   "name": "python",
   "nbconvert_exporter": "python",
   "pygments_lexer": "ipython3",
   "version": "3.11.6"
  }
 },
 "nbformat": 4,
 "nbformat_minor": 5
}
