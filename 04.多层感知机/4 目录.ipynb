{
 "cells": [
  {
   "cell_type": "markdown",
   "metadata": {
    "origin_pos": 0
   },
   "source": [
    "# 4 多层感知机\n",
    "- **目录**\n",
    "  - 4.1 多层感知机\n",
    "  - 4.2 多层感知机的从零开始实现\n",
    "  - 4.3 多层感知机的简洁实现\n",
    "  - 4.4 模型选择、欠拟合和过拟合\n",
    "  - 4.5 权重衰减\n",
    "  - 4.6 暂退法（Dropout）\n",
    "  - 4.7 前向传播、反向传播和计算图\n",
    "  - 4.8 数值稳定性和模型初始化\n",
    "  - 4.9 环境和分布偏移\n",
    "<br><br>\n",
    "- **要点**\n",
    "  - 介绍多层感知机：作为一种基础的深度网络结构。\n",
    "  - 层级结构：每一层神经元与上下层相连，处理输入数据并影响下层输出。\n",
    "  - 过拟合风险：讨论在训练大型模型时可能产生的模型过度匹配训练数据的问题。\n",
    "  - 基本概念：包括解释过拟合、欠拟合及如何进行模型选择。\n",
    "  - 正则化技术：引入权重衰减与暂退法来减轻过拟合。\n",
    "  - 数值稳定性和参数初始化：作为训练深度网络成功的关键要素。\n",
    "  - 应用案例：应用所讲述的知识到房价预测的真实案例中。"
   ]
  }
 ],
 "metadata": {
  "kernelspec": {
   "display_name": "Python 3 (ipykernel)",
   "language": "python",
   "name": "python3"
  },
  "language_info": {
   "codemirror_mode": {
    "name": "ipython",
    "version": 3
   },
   "file_extension": ".py",
   "mimetype": "text/x-python",
   "name": "python",
   "nbconvert_exporter": "python",
   "pygments_lexer": "ipython3",
   "version": "3.11.6"
  }
 },
 "nbformat": 4,
 "nbformat_minor": 4
}
