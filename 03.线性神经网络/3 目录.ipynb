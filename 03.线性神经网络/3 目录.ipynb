{
 "cells": [
  {
   "cell_type": "markdown",
   "metadata": {
    "origin_pos": 0
   },
   "source": [
    "# 3 线性神经网络\n",
    "- **目录**\n",
    "  - 3.1 线性回归\n",
    "  - 3.2 线性回归的从零开始实现\n",
    "  - 3.3 线性回归的简洁实现\n",
    "  - 3.4 softmax回归\n",
    "  - 3.5 图像分类数据集\n",
    "  - 3.6 softmax回归的从零开始实现\n",
    "  - 3.7 softmax回归的简洁实现\n",
    "<br><br>\n",
    "- **要点：**\n",
    "  - 在深入了解深度神经网络之前，需要掌握神经网络训练的基础知识。\n",
    "  - 将介绍神经网络的整个训练过程，包括定义简单的**神经网络架构**、**处理数据**、**指定损失函数**以及**如何训练模型**。\n",
    "  - 为了便于学习和理解，首先从**线性神经网络**开始介绍，这是神经网络的基础知识的一部分。\n",
    "  - **线性回归**和**softmax回归**，这些经典的**统计学习**技术，可以被视为线性神经网络的实例。\n",
    "  - 这些基础知识将帮助你理解和学习本书其他部分中介绍的更复杂的技术。\n"
   ]
  }
 ],
 "metadata": {
  "kernelspec": {
   "display_name": "Python 3 (ipykernel)",
   "language": "python",
   "name": "python3"
  },
  "language_info": {
   "codemirror_mode": {
    "name": "ipython",
    "version": 3
   },
   "file_extension": ".py",
   "mimetype": "text/x-python",
   "name": "python",
   "nbconvert_exporter": "python",
   "pygments_lexer": "ipython3",
   "version": "3.11.6"
  }
 },
 "nbformat": 4,
 "nbformat_minor": 4
}
