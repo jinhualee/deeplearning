{
 "cells": [
  {
   "cell_type": "markdown",
   "metadata": {
    "origin_pos": 0
   },
   "source": [
    "# 7 现代卷积神经网络\n",
    "\n",
    "\n",
    "- **目录**\n",
    "  - 7.1 深度卷积神经网络（AlexNet）\n",
    "  - 7.2 使用块的网络（VGG）\n",
    "  - 7.3 网络中的网络（NiN）\n",
    "  - 7.4. 含并行连结的网络（GoogLeNet）\n",
    "  - 7.5 批量规范化\n",
    "  - 7.6 残差网络（ResNet）\n",
    "  - 7.7 稠密连接网络（DenseNet）\n",
    "<br><br>\n",
    "- **要点：**\n",
    "  - 现代卷积神经网络架构的介绍，基于本章内容的研究建立。\n",
    "  - 每个模型都曾主导其时代，多数是ImageNet竞赛的获胜者。\n",
    "  - 介绍了几个关键的网络模型，包括：\n",
    "    - AlexNet：击败传统模型的大型神经网络。\n",
    "    - VGG：利用重复的网络块。\n",
    "    - NiN：使用$1\\times 1$卷积层构建深层网络。\n",
    "    - GoogLeNet：通过并行连接抽取信息。\n",
    "    - ResNet：使用残差块实现数据跨层通道。\n",
    "    - DenseNet：虽计算成本高，但效果好。\n",
    "  - 网络性能差异源于架构和超参数选择。\n",
    "  - 模型结合了人类直觉与数学见解，是大量研究的结果。\n",
    "  - 模型按时间顺序介绍，便于理解领域发展脉络。\n",
    "  - 批量规范化和残差网络对设计和训练深度网络提供指导。\n"
   ]
  }
 ],
 "metadata": {
  "kernelspec": {
   "display_name": "Python 3 (ipykernel)",
   "language": "python",
   "name": "python3"
  },
  "language_info": {
   "codemirror_mode": {
    "name": "ipython",
    "version": 3
   },
   "file_extension": ".py",
   "mimetype": "text/x-python",
   "name": "python",
   "nbconvert_exporter": "python",
   "pygments_lexer": "ipython3",
   "version": "3.11.6"
  }
 },
 "nbformat": 4,
 "nbformat_minor": 4
}
