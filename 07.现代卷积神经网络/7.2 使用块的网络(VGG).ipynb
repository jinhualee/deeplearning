{
 "cells": [
  {
   "cell_type": "markdown",
   "metadata": {},
   "source": [
    "# 7.2 使用块的网络(VGG)\n",
    "- **目录**\n",
    "  - 7.2.1 VGG块\n",
    "  - 7.2.2 VGG网络\n",
    "  - 7.2.3 训练VGG模型"
   ]
  },
  {
   "cell_type": "markdown",
   "metadata": {
    "origin_pos": 0
   },
   "source": [
    "- 虽然AlexNet证明深层神经网络卓有成效，但它没有提供一个**通用的模板**来指导后续的研究人员设计新的网络。\n",
    "- 后面章节中将介绍一些常用于设计深层神经网络的启发式概念。\n",
    "\n",
    "- 与芯片设计中工程师从放置晶体管到逻辑元件再到逻辑块的过程类似，神经网络架构的设计也逐渐变得**更加抽象**。\n",
    "- 研究人员开始从单个神经元的角度思考问题，发展到整个层，现在又转向块，重复层的模式。\n",
    "\n",
    "- 使用块的想法首先出现在牛津大学的[视觉几何组（visualgeometry group）](http://www.robots.ox.ac.uk/~vgg/)的**VGG网络**中。\n",
    "- 通过使用**循环**和**子程序**，可以很容易地在任何现代深度学习框架的代码中实现这些重复的架构。"
   ]
  },
  {
   "cell_type": "markdown",
   "metadata": {
    "origin_pos": 0
   },
   "source": [
    "## 7.2.1 **VGG块**\n",
    "\n",
    "- 经典卷积神经网络的基本组成部分是下面的这个序列：\n",
    "\n",
    "  1. 带填充以保持分辨率的卷积层。\n",
    "  1. 非线性激活函数，如ReLU。\n",
    "  1. 池化层，如最大池化层。\n",
    "\n",
    "- VGG块与之类似，由一系列卷积层组成，后面再加上**用于空间下采样的最大池化层**。\n",
    "\n",
    "- 在最初的VGG论文中，作者使用了带有$3\\times3$卷积核、填充为1（保持高度和宽度）的卷积层，和带有$2 \\times 2$池化窗口、步幅为2（每个块后的分辨率减半）的最大池化层。\n",
    "\n",
    "- 下面代码中，定义了一个名为`vgg_block`的函数来实现一个VGG块：\n",
    "  - 该函数有三个参数，分别对应于卷积层的数量`num_convs`、输入通道的数量`in_channels`\n",
    "和输出通道的数量`out_channels`."
   ]
  },
  {
   "cell_type": "code",
   "execution_count": 1,
   "metadata": {
    "origin_pos": 4,
    "tab": [
     "pytorch"
    ]
   },
   "outputs": [],
   "source": [
    "import torch\n",
    "from torch import nn\n",
    "from d2l import torch as d2l\n",
    "import numpy as np\n",
    "def vgg_block(num_convs, in_channels, out_channels):\n",
    "    layers = []\n",
    "    for _ in range(num_convs):\n",
    "        layers.append(nn.Conv2d(in_channels, out_channels,\n",
    "                                kernel_size=3, padding=1))\n",
    "        layers.append(nn.ReLU())\n",
    "        in_channels = out_channels\n",
    "    layers.append(nn.MaxPool2d(kernel_size=2,stride=2))\n",
    "    return nn.Sequential(*layers)"
   ]
  },
  {
   "cell_type": "code",
   "execution_count": 1,
   "metadata": {},
   "outputs": [
    {
     "data": {
      "text/plain": [
       "[[1, 2, 3, 4, 5], 6, 7, 8]"
      ]
     },
     "execution_count": 1,
     "metadata": {},
     "output_type": "execute_result"
    }
   ],
   "source": [
    "# *运算法的解包用法\n",
    "a = [1,2,3,4,5]\n",
    "b = [a,6,7,8]\n",
    "b"
   ]
  },
  {
   "cell_type": "code",
   "execution_count": 2,
   "metadata": {},
   "outputs": [
    {
     "data": {
      "text/plain": [
       "[1, 2, 3, 4, 5, 6, 7, 8]"
      ]
     },
     "execution_count": 2,
     "metadata": {},
     "output_type": "execute_result"
    }
   ],
   "source": [
    "b = [*a,6,7,8]\n",
    "b"
   ]
  },
  {
   "cell_type": "markdown",
   "metadata": {
    "origin_pos": 6
   },
   "source": [
    "## 7.2.2 **VGG网络**\n",
    "\n",
    "- 与AlexNet、LeNet一样，VGG网络可以分为两部分(如图7.2.1中所示)：\n",
    "\n",
    "  - 第一部分主要由卷积层和池化层组成\n",
    "  \n",
    "  - 第二部分由全连接层组成。\n",
    "\n",
    "\n",
    "<center>\n",
    "    <img src=\"../img/vgg.svg\" alt=\"从AlexNet到VGG，它们本质上都是块设计\">\n",
    "</center>\n",
    "<center>\n",
    "    图7.2.1 从AlexNet到VGG，它们本质上都是块设计\n",
    "</center>\n",
    "\n",
    "- VGG神经网络连接图7.2.1的几个**VGG块**（在`vgg_block`函数中定义）:\n",
    "\n",
    "  - 其中有超参数变量`conv_arch`,该变量指定了每个VGG块里**卷积层个数**和**输出通道数**。\n",
    "  \n",
    "- 全连接模块则与AlexNet中的相同。\n",
    "\n",
    "- 原始VGG网络有5个卷积块:\n",
    "\n",
    "  - 其中前两个块各有一个卷积层\n",
    "  \n",
    "  - 后三个块各包含两个卷积层。\n",
    "  \n",
    "- 第一个模块有64个输出通道，每个后续模块将输出通道数量翻倍，直到该数字达到512。\n",
    "\n",
    "- 由于该网络使用8个卷积层和3个全连接层，因此它通常被称为VGG-11。\n"
   ]
  },
  {
   "cell_type": "code",
   "execution_count": 3,
   "metadata": {
    "origin_pos": 7,
    "tab": [
     "pytorch"
    ]
   },
   "outputs": [],
   "source": [
    "## 指定了每个VGG块里卷积层个数和输出通道数\n",
    "## 即前两个VGG块各1个卷积层，后3个块各2个卷积层\n",
    "conv_arch = ((1, 64), (1, 128), (2, 256), (2, 512), (2, 512))"
   ]
  },
  {
   "cell_type": "markdown",
   "metadata": {
    "origin_pos": 8
   },
   "source": [
    "下面的代码实现了VGG-11。可以通过在`conv_arch`上执行for循环来简单实现。\n"
   ]
  },
  {
   "cell_type": "code",
   "execution_count": 5,
   "metadata": {
    "origin_pos": 10,
    "tab": [
     "pytorch"
    ]
   },
   "outputs": [],
   "source": [
    "def vgg(conv_arch):\n",
    "    conv_blks = []\n",
    "    in_channels = 1\n",
    "    # 卷积层部分\n",
    "    for (num_convs, out_channels) in conv_arch:\n",
    "        conv_blks.append(vgg_block(num_convs, in_channels, out_channels))\n",
    "        ## 除了第一个卷积层，后面所有卷积层的输入通道数等于上个卷积层的输出通道数\n",
    "        in_channels = out_channels\n",
    "    ## 注意dropout层都是放在激活层后面的\n",
    "    return nn.Sequential(\n",
    "        *conv_blks, nn.Flatten(),\n",
    "        # 全连接层部分\n",
    "        nn.Linear(out_channels * 7 * 7, 4096), nn.ReLU(), nn.Dropout(0.5),\n",
    "        nn.Linear(4096, 4096), nn.ReLU(), nn.Dropout(0.5),\n",
    "        nn.Linear(4096, 10))\n",
    "\n",
    "net = vgg(conv_arch)"
   ]
  },
  {
   "cell_type": "markdown",
   "metadata": {
    "origin_pos": 12
   },
   "source": [
    "- 接下来构建一个高度和宽度为224的单通道数据样本，以**观察每个层输出的形状**。\n"
   ]
  },
  {
   "cell_type": "code",
   "execution_count": 6,
   "metadata": {
    "origin_pos": 14,
    "tab": [
     "pytorch"
    ]
   },
   "outputs": [
    {
     "name": "stdout",
     "output_type": "stream",
     "text": [
      "Sequential output shape:\t torch.Size([1, 64, 112, 112])\n",
      "Sequential output shape:\t torch.Size([1, 128, 56, 56])\n",
      "Sequential output shape:\t torch.Size([1, 256, 28, 28])\n",
      "Sequential output shape:\t torch.Size([1, 512, 14, 14])\n",
      "Sequential output shape:\t torch.Size([1, 512, 7, 7])\n",
      "Flatten output shape:\t torch.Size([1, 25088])\n",
      "Linear output shape:\t torch.Size([1, 4096])\n",
      "ReLU output shape:\t torch.Size([1, 4096])\n",
      "Dropout output shape:\t torch.Size([1, 4096])\n",
      "Linear output shape:\t torch.Size([1, 4096])\n",
      "ReLU output shape:\t torch.Size([1, 4096])\n",
      "Dropout output shape:\t torch.Size([1, 4096])\n",
      "Linear output shape:\t torch.Size([1, 10])\n"
     ]
    }
   ],
   "source": [
    "X = torch.randn(size=(1, 1, 224, 224))\n",
    "for blk in net:\n",
    "    X = blk(X)\n",
    "    print(blk.__class__.__name__,'output shape:\\t',X.shape)"
   ]
  },
  {
   "cell_type": "markdown",
   "metadata": {
    "origin_pos": 16
   },
   "source": [
    "- 从上述输出可以看出，每个块的高度和宽度减半，最终高度和宽度从112到7。\n",
    "- 最后再展平表示，送入全连接层处理。"
   ]
  },
  {
   "cell_type": "markdown",
   "metadata": {
    "origin_pos": 16
   },
   "source": [
    "## 7.2.3 训练VGG模型\n",
    "\n",
    "- 由于VGG-11比AlexNet计算量更大，因此此处构建了一个**通道数较少的网络**，足够用于训练Fashion-MNIST数据集。"
   ]
  },
  {
   "cell_type": "code",
   "execution_count": 5,
   "metadata": {
    "origin_pos": 17,
    "tab": [
     "pytorch"
    ]
   },
   "outputs": [],
   "source": [
    "ratio = 4\n",
    "small_conv_arch = [(pair[0], pair[1] // ratio) for pair in conv_arch]\n",
    "net = vgg(small_conv_arch)"
   ]
  },
  {
   "cell_type": "markdown",
   "metadata": {
    "origin_pos": 19
   },
   "source": [
    "- 除了使用略高的学习率外，**模型训练**过程与7.1节中的AlexNet类似。"
   ]
  },
  {
   "cell_type": "code",
   "execution_count": 7,
   "metadata": {
    "origin_pos": 20,
    "tab": [
     "pytorch"
    ]
   },
   "outputs": [],
   "source": [
    "## 即便改小了参数，在MX250上根本跑不动\n",
    "## 本例在3090ti上训练\n",
    "import time\n",
    "import numpy as np\n",
    "lr, num_epochs, batch_size = 0.05, 10, 128\n",
    "start = time.time()\n",
    "train_iter, test_iter = d2l.load_data_fashion_mnist(batch_size, resize=224)\n",
    "d2l.train_ch6(net, train_iter, test_iter, num_epochs, lr, d2l.try_gpu())\n",
    "end = time.time()\n",
    "print(f'3090ti上模型训练耗时：{int(np.floor((end-start)/60))}分钟{(int(end-start)%60) }秒')"
   ]
  },
  {
   "cell_type": "markdown",
   "metadata": {},
   "source": [
    "<img src=\"../img/7_2_1.png\" height=350 width=350>"
   ]
  },
  {
   "cell_type": "markdown",
   "metadata": {
    "tags": []
   },
   "source": [
    "- **说明：**\n",
    "  - VGG-11的训练精度与测试精度高出AlexNet很多。\n",
    "  - 在3090ti上的训练耗时3分47秒，时间也可以接受。\n",
    "  - 后面的课程内容随着模型复杂度增加，在一般PC机上运行越来越不可能，因此建议配一块稍微高档的GPU。\n",
    "  - 使用一块3090ti运行本教程的所有代码无任何问题，复杂模型的代码都做了简化。"
   ]
  },
  {
   "cell_type": "markdown",
   "metadata": {
    "origin_pos": 21
   },
   "source": [
    "## 小结\n",
    "\n",
    "* VGG-11使用可复用的卷积块构造网络。不同的VGG模型可通过每个块中卷积层数量和输出通道数量的差异来定义。\n",
    "* 块的使用导致网络定义的非常简洁。使用块可以有效地设计复杂的网络。\n",
    "* 在VGG论文中，Simonyan和Ziserman尝试了各种架构。特别是他们发现**深层且窄**的卷积（即$3 \\times 3$）比较浅层且宽的卷积更有效。"
   ]
  }
 ],
 "metadata": {
  "kernelspec": {
   "display_name": "Python 3 (ipykernel)",
   "language": "python",
   "name": "python3"
  },
  "language_info": {
   "codemirror_mode": {
    "name": "ipython",
    "version": 3
   },
   "file_extension": ".py",
   "mimetype": "text/x-python",
   "name": "python",
   "nbconvert_exporter": "python",
   "pygments_lexer": "ipython3",
   "version": "3.11.6"
  }
 },
 "nbformat": 4,
 "nbformat_minor": 4
}
