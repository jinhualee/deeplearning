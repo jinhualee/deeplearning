{
 "cells": [
  {
   "cell_type": "markdown",
   "metadata": {
    "origin_pos": 0
   },
   "source": [
    "# 7.4. 含并行连结的网络（GoogLeNet）\n",
    "- **目录**\n",
    "  - 7.4.1 Inception块\n",
    "  - 7.4.2 GoogLeNet模型\n",
    "  - 7.4.3 训练模型\n"
   ]
  },
  {
   "cell_type": "markdown",
   "metadata": {
    "origin_pos": 0
   },
   "source": [
    "- **GoogLeNet**2014年出现，吸收了NiN中串联网络的思想，并在此基础上做了改进。\n",
    "- 该模型的重点是解决了什么样大小的卷积核最合适的问题。\n",
    "- 以前流行的网络使用小到$1 \\times 1$，大到$11 \\times 11$的卷积核。\n",
    "- 本文的一个观点是，有时**使用不同大小的卷积核组合是有利的**。\n",
    "- 在本节介绍一个稍微简化的GoogLeNet版本。"
   ]
  },
  {
   "cell_type": "markdown",
   "metadata": {},
   "source": [
    "------------\n",
    "- **说明：**\n",
    "- **（1）何为“NiN中串联网络的思想”？**\n",
    "  - 在传统的卷积神经网络（CNN）中，卷积核的大小通常为 $3 \\times 3$ 或 $5 \\times 5$ 等。\n",
    "    - NiN 模型引入了使用 $1 \\times 1$ 的卷积核，这种非常小的卷积核在每个位置上只与输入的深度方向（通道数）进行点乘运算。\n",
    "    - 这实际上是对每个像素点的所有通道进行线性组合，从而实现了跨通道的信息融合。\n",
    "  - 在 NiN 模型中，卷积层后面紧跟着一个 $1 \\times 1$ 的卷积层，这种结构被称为“串联”网络。\n",
    "    - 这个操作可以理解为在每一层之后进行一个小的全连接操作，但仍然保持空间信息（因为它是逐像素进行的）。\n",
    "    - 这种方法有效地增加了网络的表达能力，并且减少了参数量。\n",
    "  - GoogLeNet 吸收了 NiN 的这种思想，并将其扩展到 Inception 模块中。\n",
    "    - 在 Inception 模块中，使用了多个不同大小的卷积核（例如 $1 \\times 1$、$3 \\times 3$ 和 $5 \\times 5$），并将它们的输出拼接在一起。\n",
    "    - 这种方法允许模型在同一层次上同时捕捉到不同尺度的特征，同时通过 $1 \\times 1$ 卷积来减少计算量和参数量。\n",
    "  - 串联网络的计算过程\n",
    "- **（2） $1 \\times 1$ 卷积层实现全连接运算示例**\n",
    "  - 假设输入特征图的形状为 $(2, 3, 3)$（即通道数为2，高为3，宽为3），卷积核的形状为 $(1, 2, 1, 1)$（即单输出通道），具体数值如下：\n",
    "    - **输入特征图 $\\mathbf{X}$**：\n",
    "    $$\n",
    "\\mathbf{X} =\n",
    "\\begin{bmatrix}\n",
    "\\begin{bmatrix}\n",
    "1 & 3 & 5 \\\\\n",
    "7 & 9 & 11 \\\\\n",
    "13 & 15 & 17\n",
    "\\end{bmatrix},\n",
    "\\begin{bmatrix}\n",
    "2 & 4 & 6 \\\\\n",
    "8 & 10 & 12 \\\\\n",
    "14 & 16 & 18\n",
    "\\end{bmatrix}\n",
    "\\end{bmatrix}\n",
    "    $$\n",
    "\n",
    "    - **1x1卷积核的权重 $\\mathbf{w}$**：\n",
    "\n",
    "    $$\n",
    "\\mathbf{w} = \\begin{bmatrix} 0.5 & -0.5 \\end{bmatrix}\n",
    "    $$\n",
    "   - 对于位置 $(h=1, w=1)$ 处的像素点，计算过程如下：\n",
    "     - 1. **线性组合计算 $ y_{1,1} $**：\n",
    "    $$\n",
    "y_{1,1} = 0.5 \\cdot 1 + (-0.5) \\cdot 2 = 0.5 - 1 = -0.5\n",
    "    $$\n",
    "     - 2. **ReLU激活**：\n",
    "    $$\n",
    "z_{1,1} = \\max(0, -0.5) = 0\n",
    "    $$\n",
    "\n",
    "-------------"
   ]
  },
  {
   "cell_type": "markdown",
   "metadata": {
    "origin_pos": 0
   },
   "source": [
    "## 7.4.1 Inception块\n",
    "\n",
    "- 在GoogLeNet中，基本的卷积块被称为**Inception块（Inception block）**。\n",
    "  - 这很可能得名于电影《盗梦空间》（Inception），因为电影中的一句话“我们需要走得更深”（“We need to go deeper”）。\n",
    "\n",
    "<center>\n",
    "    <img src=\"../img/inception.svg\" alt=\"Inception块的架构\">\n",
    "</center>\n",
    "<center>\n",
    "    图7.4.1 Inception块的架构\n",
    "</center>\n",
    "\n",
    "- 如图7.4.1所示，Inception块由**四条并行路径组成**。\n",
    "  - 前三条路径使用窗口大小为$1\\times 1$、$3\\times 3$和$5\\times 5$的卷积层，从不同空间大小中提取信息。\n",
    "  - 中间的两条路径在输入上执行$1\\times 1$卷积，以减少通道数，从而降低模型的复杂性。\n",
    "  - 第四条路径使用$3\\times 3$最大池化层，然后使用$1\\times 1$卷积层来改变通道数。\n",
    "  - 这四条路径都使用合适的填充来使输入与输出的高和宽一致，最后将每条线路的输出在通道维度上连结，并构成Inception块的输出。\n",
    "  - 在Inception块中，通常**调整的超参数是每层输出通道数**。"
   ]
  },
  {
   "cell_type": "code",
   "execution_count": 20,
   "metadata": {
    "origin_pos": 2,
    "tab": [
     "pytorch"
    ]
   },
   "outputs": [],
   "source": [
    "%matplotlib inline\n",
    "import torch\n",
    "from torch import nn\n",
    "from torch.nn import functional as F\n",
    "from d2l import torch as d2l\n",
    "\n",
    "'''\n",
    "注意Conv2d的输出通道数决定了卷积核的多少，也是Conv2d输出的通道数。\n",
    "'''\n",
    "class Inception(nn.Module):\n",
    "    # c1--c4是每条路径的输出通道数\n",
    "    # Inception(192, 64, (96, 128), (16, 32), 32)为例\n",
    "    def __init__(self, in_channels, c1, c2, c3, c4, **kwargs):\n",
    "        super(Inception, self).__init__(**kwargs)\n",
    "        # 线路1，单1x1卷积层\n",
    "        self.p1_1 = nn.Conv2d(in_channels, c1, kernel_size=1)\n",
    "        # 线路2，1x1卷积层后接3x3卷积层\n",
    "        self.p2_1 = nn.Conv2d(in_channels, c2[0], kernel_size=1)\n",
    "        self.p2_2 = nn.Conv2d(c2[0], c2[1], kernel_size=3, padding=1)\n",
    "        # 线路3，1x1卷积层后接5x5卷积层\n",
    "        self.p3_1 = nn.Conv2d(in_channels, c3[0], kernel_size=1)\n",
    "        self.p3_2 = nn.Conv2d(c3[0], c3[1], kernel_size=5, padding=2)\n",
    "        # 线路4，3x3最大池化层后接1x1卷积层\n",
    "        self.p4_1 = nn.MaxPool2d(kernel_size=3, stride=1, padding=1)\n",
    "        self.p4_2 = nn.Conv2d(in_channels, c4, kernel_size=1)\n",
    "\n",
    "    def forward(self, x):\n",
    "        p1 = F.relu(self.p1_1(x))\n",
    "        p2 = F.relu(self.p2_2(F.relu(self.p2_1(x))))\n",
    "        p3 = F.relu(self.p3_2(F.relu(self.p3_1(x))))\n",
    "        p4 = F.relu(self.p4_2(self.p4_1(x)))\n",
    "        # 在通道维度上连结输出\n",
    "        ## 此处很重要，必须保证4个路径输出的第3和4维形状相同\n",
    "        return torch.cat((p1, p2, p3, p4), dim=1)"
   ]
  },
  {
   "cell_type": "markdown",
   "metadata": {
    "origin_pos": 4
   },
   "source": [
    "- 那么为什么GoogLeNet这个网络如此有效呢？\n",
    "  - 首先考虑一下滤波器（filter）的组合，它们可以用各种滤波器尺寸探索图像，这意味着**不同大小的滤波器可以有效地识别不同范围的图像细节**。\n",
    "  - 同时，可以为不同的滤波器分配不同数量的参数。"
   ]
  },
  {
   "cell_type": "markdown",
   "metadata": {},
   "source": [
    "-----------\n",
    "- **说明：Inception输出形状以及通道维的拼接，以Inception(192, 64, (96, 128), (16, 32), 32)为例**\n",
    "  - **假设输入张量 `x` 的形状为 `(batch_size, 192, H, W)`**\n",
    "    - 其中 `batch_size` 是批量大小，\n",
    "    - `192` 是输入通道数，\n",
    "    - `H` 和 `W` 是输入的高和宽。\n",
    "  - **路径 1 (`p1`)**\n",
    "    - 子层 `p1_1`:\n",
    "      - 输入形状: `(batch_size, 192, H, W)`\n",
    "      - 卷积核大小: `1x1`\n",
    "      - 输出通道数: `64`\n",
    "      - 输出形状: `(batch_size, 64, H, W)`\n",
    "  - **路径 2 (`p2`)**\n",
    "    - 子层 `p2_1`:\n",
    "      - 输入形状: `(batch_size, 192, H, W)`\n",
    "      - 卷积核大小: `1x1`\n",
    "      - 输出通道数: `96`\n",
    "      - 输出形状: `(batch_size, 96, H, W)`\n",
    "    - 子层 `p2_2`:\n",
    "      - 输入形状: `(batch_size, 96, H, W)`\n",
    "      - 卷积核大小: `3x3`\n",
    "      - Padding: `1`（保持输入和输出的空间尺寸不变）\n",
    "      - 输出通道数: `128`\n",
    "      - 输出形状: `(batch_size, 128, H, W)`\n",
    "  - **路径 3 (`p3`)**\n",
    "    - 子层 `p3_1`:\n",
    "      - 输入形状: `(batch_size, 192, H, W)`\n",
    "      - 卷积核大小: `1x1`\n",
    "      - 输出通道数: `16`\n",
    "      - 输出形状: `(batch_size, 16, H, W)`\n",
    "    - 子层 `p3_2`:\n",
    "      - 输入形状: `(batch_size, 16, H, W)`\n",
    "      - 卷积核大小: `5x5`\n",
    "      - Padding: `2`（保持输入和输出的空间尺寸不变）\n",
    "      - 输出通道数: `32`\n",
    "      - 输出形状: `(batch_size, 32, H, W)`\n",
    "  - **路径 4 (`p4`)**\n",
    "    - 子层 `p4_1`:\n",
    "      - 输入形状: `(batch_size, 192, H, W)`\n",
    "      - 最大池化核大小: `3x3`\n",
    "      - Padding: `1`（保持输入和输出的空间尺寸不变）\n",
    "      - 最大池化层输出形状: `(batch_size, 192, H, W)`\n",
    "    - 子层 `p4_2`:\n",
    "      - 输入形状: `(batch_size, 192, H, W)`\n",
    "      - 卷积核大小: `1x1`\n",
    "      - 输出通道数: `32`\n",
    "      - 输出形状: `(batch_size, 32, H, W)`\n",
    "  - **汇总**\n",
    "    - `p1` 的输出形状: `(batch_size, 64, H, W)`\n",
    "    - `p2` 的输出形状: `(batch_size, 128, H, W)`\n",
    "    - `p3` 的输出形状: `(batch_size, 32, H, W)`\n",
    "    - `p4` 的输出形状: `(batch_size, 32, H, W)`\n",
    "  - 最终，Inception块的输出是将这些路径的输出在通道维度上进行连接:\n",
    "    - **输出形状**: `(batch_size, 64 + 128 + 32 + 32, H, W) = (batch_size, 256, H, W)`\n",
    "----------------------"
   ]
  },
  {
   "cell_type": "markdown",
   "metadata": {
    "origin_pos": 4
   },
   "source": [
    "## 7.4.2 GoogLeNet模型\n",
    "\n",
    "- 如图7.4.2所示，GoogLeNet一共使用9个Inception块和全局平均池化层的堆叠来生成其估计值。\n",
    "- Inception块之间的最大池化层可降低维度。\n",
    "- 第一个模块类似于AlexNet和LeNet，Inception块的组合从VGG继承，全局平均池化层避免了在最后使用全连接层。\n",
    "\n",
    "<center>\n",
    "    <img src=\"../img/inception-full.svg\" alt=\"GoogLeNet架构\">\n",
    "</center>\n",
    "<center>\n",
    "    图7.4.2 GoogLeNet架构\n",
    "</center>\n",
    "\n",
    "- 现在逐一实现GoogLeNet的每个模块。\n",
    "- 第一个模块使用64个通道、$7\\times 7$卷积层。"
   ]
  },
  {
   "cell_type": "code",
   "execution_count": 21,
   "metadata": {
    "origin_pos": 6,
    "tab": [
     "pytorch"
    ]
   },
   "outputs": [],
   "source": [
    "## 第1,2格：7*7卷积层与3*3最大池化层\n",
    "## 卷积层将特征图大小减半，然后最大层化层再减半，通过b1后特征图的大小减小为输入的1/4\n",
    "b1 = nn.Sequential(nn.Conv2d(1, 64, kernel_size=7, stride=2, padding=3),## 第1格\n",
    "                   nn.ReLU(),\n",
    "                   nn.MaxPool2d(kernel_size=3, stride=2, padding=1)) ## 第2格"
   ]
  },
  {
   "cell_type": "code",
   "execution_count": 22,
   "metadata": {
    "tags": []
   },
   "outputs": [
    {
     "name": "stdout",
     "output_type": "stream",
     "text": [
      "Sequential output shape:\t torch.Size([1, 64, 24, 24])\n"
     ]
    }
   ],
   "source": [
    "## 根据6.6节的公式计算结果与下述结果一致\n",
    "## 后面各层类似\n",
    "X = torch.rand(size=(1, 1, 96, 96))\n",
    "for layer in  nn.Sequential(b1):\n",
    "    X = layer(X)\n",
    "    print(layer.__class__.__name__,'output shape:\\t', X.shape)"
   ]
  },
  {
   "cell_type": "markdown",
   "metadata": {
    "origin_pos": 8
   },
   "source": [
    "- 第二个模块使用两个卷积层：\n",
    "  - 第一个卷积层是64个通道、$1\\times 1$卷积层；\n",
    "  - 第二个卷积层使用将通道数量增加三倍的$3\\times 3$卷积层。\n",
    "  - 对应于Inception块中的第二条路径。\n"
   ]
  },
  {
   "cell_type": "code",
   "execution_count": 23,
   "metadata": {
    "origin_pos": 10,
    "tab": [
     "pytorch"
    ]
   },
   "outputs": [],
   "source": [
    "## 分别实现第3,4,5格\n",
    "b2 = nn.Sequential(nn.Conv2d(64, 64, kernel_size=1),## 第3格，输出大小不变：24*24\n",
    "                   nn.ReLU(),\n",
    "                   nn.Conv2d(64, 192, kernel_size=3, padding=1), ## 第4格，输出大小不变：24*24\n",
    "                   nn.ReLU(),\n",
    "                   nn.MaxPool2d(kernel_size=3, stride=2, padding=1)) ## 第5格，输出大小变为：12*12"
   ]
  },
  {
   "cell_type": "markdown",
   "metadata": {
    "origin_pos": 12
   },
   "source": [
    "- 第三个模块串联两个完整的Inception块。\n",
    "  - 第一个Inception块的输出通道数为$64+128+32+32=256$，四个路径之间的输出通道数量比为$64:128:32:32=2:4:1:1$。\n",
    "  - 第二个和第三个路径首先将输入通道的数量分别减少到$96/192=1/2$和$16/192=1/12$，然后连接第二个卷积层。\n",
    "  - 第二个Inception块的输出通道数增加到$128+192+96+64=480$，四个路径之间的输出通道数量比为$128:192:96:64 = 4:6:3:2$。\n",
    "  - 第二条和第三条路径首先将输入通道的数量分别减少到$128/256=1/2$和$32/256=1/8$。\n"
   ]
  },
  {
   "cell_type": "code",
   "execution_count": 25,
   "metadata": {
    "origin_pos": 14,
    "tab": [
     "pytorch"
    ]
   },
   "outputs": [],
   "source": [
    "## 第6,7格，第6格式Inception块\n",
    "b3 = nn.Sequential(Inception(192, 64, (96, 128), (16, 32), 32), ## 第6格第1个Inception\n",
    "                   Inception(256, 128, (128, 192), (32, 96), 64), ## 第6格第2个Inception\n",
    "                   nn.MaxPool2d(kernel_size=3, stride=2, padding=1)) ## 第7格"
   ]
  },
  {
   "cell_type": "markdown",
   "metadata": {
    "origin_pos": 16
   },
   "source": [
    "- 第四模块更加复杂，它串联了5个Inception块，其输出通道数分别是$192+208+48+64=512$、$160+224+64+64=512$、$128+256+64+64=512$、$112+288+64+64=528$和$256+320+128+128=832$。\n",
    "  - 首先是含$3×3$卷积层的第二条路径输出最多通道，\n",
    "  - 其次是仅含$1×1$卷积层的第一条路径，\n",
    "  - 之后是含$5×5$卷积层的第三条路径和含$3×3$最大池化层的第四条路径。\n",
    "  - 其中第二、第三条路径都会先按比例减小通道数。\n",
    "  - 这些比例在各个Inception块中都略有不同。\n"
   ]
  },
  {
   "cell_type": "code",
   "execution_count": 26,
   "metadata": {
    "origin_pos": 18,
    "tab": [
     "pytorch"
    ]
   },
   "outputs": [],
   "source": [
    "## 第8,9格，其中第8格5个Inception构成的块\n",
    "b4 = nn.Sequential(Inception(480, 192, (96, 208), (16, 48), 64), ## 第8格第1个Inception\n",
    "                   Inception(512, 160, (112, 224), (24, 64), 64), ## 第8格第2个Inception\n",
    "                   Inception(512, 128, (128, 256), (24, 64), 64), ## 第8格第3个Inception\n",
    "                   Inception(512, 112, (144, 288), (32, 64), 64), ## 第8格第4个Inception\n",
    "                   Inception(528, 256, (160, 320), (32, 128), 128), ## 第8格第5个Inception\n",
    "                   nn.MaxPool2d(kernel_size=3, stride=2, padding=1)) ## 第9格"
   ]
  },
  {
   "cell_type": "markdown",
   "metadata": {
    "origin_pos": 20
   },
   "source": [
    "- 第五模块包含输出通道数为$256+320+128+128=832$和$384+384+128+128=1024$的两个Inception块。\n",
    "  - 其中每条路径通道数的分配思路和第三、第四模块中的一致，只是在具体数值上有所不同。\n",
    "  - 需要注意的是，第五模块的后面紧跟输出层，该模块同NiN一样使用全局平均池化层，将每个通道的高和宽变成1。\n",
    "  - 最后我们将输出变成二维数组，再接上一个输出个数为标签类别数的全连接层。"
   ]
  },
  {
   "cell_type": "code",
   "execution_count": 27,
   "metadata": {
    "origin_pos": 22,
    "tab": [
     "pytorch"
    ]
   },
   "outputs": [],
   "source": [
    "## 第10,11格，其中第10格是两个Inception构成的块\n",
    "b5 = nn.Sequential(Inception(832, 256, (160, 320), (32, 128), 128), ## 第10格第1个Inception\n",
    "                   Inception(832, 384, (192, 384), (48, 128), 128), ## 第10格第2个Inception\n",
    "                   nn.AdaptiveAvgPool2d((1,1)), ## 第11格\n",
    "                   nn.Flatten())\n",
    "\n",
    "net = nn.Sequential(b1, b2, b3, b4, b5, nn.Linear(1024, 10)) ## 最后第12格是一个全连接层"
   ]
  },
  {
   "cell_type": "markdown",
   "metadata": {
    "origin_pos": 24
   },
   "source": [
    "- GoogLeNet模型的计算复杂，而且不如VGG那样便于修改通道数。\n",
    "- 为了使Fashion-MNIST上的训练短小精悍，下例将输入的高和宽从224降到96，这简化了计算。\n",
    "- 下面演示各个模块输出的形状变化。\n"
   ]
  },
  {
   "cell_type": "code",
   "execution_count": 28,
   "metadata": {
    "origin_pos": 26,
    "tab": [
     "pytorch"
    ]
   },
   "outputs": [
    {
     "name": "stdout",
     "output_type": "stream",
     "text": [
      "Sequential output shape:\t torch.Size([1, 64, 24, 24])\n",
      "Sequential output shape:\t torch.Size([1, 192, 12, 12])\n",
      "Sequential output shape:\t torch.Size([1, 480, 6, 6])\n",
      "Sequential output shape:\t torch.Size([1, 832, 3, 3])\n",
      "Sequential output shape:\t torch.Size([1, 1024])\n",
      "Linear output shape:\t torch.Size([1, 10])\n"
     ]
    }
   ],
   "source": [
    "X = torch.rand(size=(1, 1, 96, 96))\n",
    "for layer in net:\n",
    "    X = layer(X)\n",
    "    print(layer.__class__.__name__,'output shape:\\t', X.shape)"
   ]
  },
  {
   "cell_type": "markdown",
   "metadata": {
    "origin_pos": 28
   },
   "source": [
    "## 7.4.3 训练模型\n",
    "\n",
    "- 使用Fashion-MNIST数据集来训练模型。\n",
    "- 在训练之前，将图片转换为$96 \\times 96$分辨率。"
   ]
  },
  {
   "cell_type": "code",
   "execution_count": 2,
   "metadata": {
    "origin_pos": 29,
    "tab": [
     "pytorch"
    ]
   },
   "outputs": [],
   "source": [
    "import time\n",
    "import numpy as np\n",
    "lr, num_epochs, batch_size = 0.1, 10, 128\n",
    "train_iter, test_iter = d2l.load_data_fashion_mnist(batch_size, resize=96)\n",
    "start = time.time()\n",
    "d2l.train_ch6(net, train_iter, test_iter, num_epochs, lr, d2l.try_gpu())\n",
    "end = time.time()\n",
    "print(f'3090ti上模型训练耗时：{int(np.floor((end-start)/60))}分钟{(int(end-start)%60) }秒')"
   ]
  },
  {
   "cell_type": "markdown",
   "metadata": {},
   "source": [
    "<img src='..\\img\\7_4_1.png' height=350 width=350>"
   ]
  },
  {
   "cell_type": "markdown",
   "metadata": {
    "origin_pos": 30
   },
   "source": [
    "## 小结\n",
    "\n",
    "* Inception块相当于一个有4条路径的子网络。它通过不同窗口形状的卷积层和最大池化层来并行抽取信息，并使用$1×1$卷积层减少每像素级别上的通道维数从而降低模型复杂度。\n",
    "*  GoogLeNet将多个设计精细的Inception块与其他层（卷积层、全连接层）串联起来。其中Inception块的通道数分配之比是在ImageNet数据集上通过大量的实验得来的。\n",
    "* GoogLeNet和它的后继者们一度是ImageNet上最有效的模型之一：它以较低的计算复杂度提供了类似的测试精度。"
   ]
  }
 ],
 "metadata": {
  "kernelspec": {
   "display_name": "Python 3 (ipykernel)",
   "language": "python",
   "name": "python3"
  },
  "language_info": {
   "codemirror_mode": {
    "name": "ipython",
    "version": 3
   },
   "file_extension": ".py",
   "mimetype": "text/x-python",
   "name": "python",
   "nbconvert_exporter": "python",
   "pygments_lexer": "ipython3",
   "version": "3.11.6"
  }
 },
 "nbformat": 4,
 "nbformat_minor": 4
}
